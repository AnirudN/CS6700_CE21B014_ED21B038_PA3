{
 "cells": [
  {
   "cell_type": "markdown",
   "metadata": {},
   "source": [
    "Intra Option Q Learning"
   ]
  },
  {
   "cell_type": "markdown",
   "metadata": {},
   "source": [
    "Learning the options simultaneously"
   ]
  },
  {
   "cell_type": "code",
   "execution_count": 41,
   "metadata": {
    "id": "P_DODRgW_ZKS"
   },
   "outputs": [],
   "source": [
    "\n",
    "\n",
    "import numpy as np\n",
    "from tqdm import tqdm\n",
    "import random\n",
    "import gym\n",
    "import glob\n",
    "import io\n",
    "import matplotlib.pyplot as plt"
   ]
  },
  {
   "cell_type": "code",
   "execution_count": 42,
   "metadata": {
    "colab": {
     "base_uri": "https://localhost:8080/"
    },
    "id": "fYNA5kiH_esJ",
    "outputId": "626ad5c9-8608-4ccb-8b05-f72ca4af8d77"
   },
   "outputs": [
    {
     "name": "stdout",
     "output_type": "stream",
     "text": [
      "()\n",
      "6\n",
      "3\n",
      "----\n",
      "(328, {'prob': 1.0, 'action_mask': array([1, 1, 1, 0, 0, 0], dtype=int8)}) state\n",
      "----\n",
      "4\n",
      "----\n",
      "328 nextstate\n",
      "-10\n",
      "False\n",
      "False\n",
      "{'prob': 1.0, 'action_mask': array([1, 1, 1, 0, 0, 0], dtype=int8)}\n",
      "----\n"
     ]
    },
    {
     "name": "stderr",
     "output_type": "stream",
     "text": [
      "e:\\python\\lib\\site-packages\\gym\\utils\\passive_env_checker.py:233: DeprecationWarning: `np.bool8` is a deprecated alias for `np.bool_`.  (Deprecated NumPy 1.24)\n",
      "  if not isinstance(terminated, (bool, np.bool8)):\n"
     ]
    }
   ],
   "source": [
    "seed = 543\n",
    "#Setting up the environment\n",
    "env = gym.make('Taxi-v3')\n",
    "env.reset(seed=seed)\n",
    "\n",
    "state_shape = env.observation_space.shape\n",
    "no_of_actions = env.action_space.n\n",
    "\n",
    "print(state_shape)\n",
    "print(no_of_actions)\n",
    "print(env.action_space.sample())\n",
    "print(\"----\")\n",
    "\n",
    "state = env.reset()\n",
    "''' This returns the initial state (when environment is reset) '''\n",
    "\n",
    "print(state,\"state\")\n",
    "print(\"----\")\n",
    "\n",
    "action = env.action_space.sample()\n",
    "''' We take a random action now '''\n",
    "\n",
    "print(action)\n",
    "print(\"----\")\n",
    "\n",
    "next_state, reward, terminated, truncated, info = env.step(action)\n",
    "''' env.step is used to calculate new state and obtain reward based on old state and action taken  '''\n",
    "\n",
    "print(next_state,\"nextstate\")\n",
    "print(reward)\n",
    "print(terminated)\n",
    "print(truncated)\n",
    "print(info)\n",
    "print(\"----\")"
   ]
  },
  {
   "cell_type": "code",
   "execution_count": 43,
   "metadata": {},
   "outputs": [],
   "source": [
    "RED_ACTN_MATRIX = np.array([[1,3,0,0,0],\n",
    "[1,3,0,0,0],\n",
    "[1,3,3,3,3],\n",
    "[1,1,1,1,1],\n",
    "[1,1,1,1,1]])\n",
    "\n",
    "GRE_ACTN_MATRIX = np.array([[0,0,2,2,1],\n",
    "[0,0,2,2,1],\n",
    "[2,2,2,2,1],\n",
    "[1,1,1,1,1],\n",
    "[1,1,1,1,1]])\n",
    "\n",
    "YEL_ACTN_MATRIX = np.array([[0,0,0,0,0],\n",
    "[0,0,0,0,0],\n",
    "[0,3,3,3,3],\n",
    "[0,1,1,1,1],\n",
    "[0,1,1,1,1]])\n",
    "\n",
    "BLU_ACTN_MATRIX = np.array([[0,0,0,0,3],\n",
    "[0,0,0,0,3],\n",
    "[2,2,2,0,3],\n",
    "[1,1,1,0,3],\n",
    "[1,1,1,0,3]])\n",
    "\n",
    "RED_TERM_MATRIX = np.zeros((5,5)); RED_TERM_MATRIX[0,0] = 1\n",
    "GRE_TERM_MATRIX = np.zeros((5,5)); GRE_TERM_MATRIX[0,4] = 1\n",
    "YEL_TERM_MATRIX = np.zeros((5,5)); YEL_TERM_MATRIX[4,0] = 1\n",
    "BLU_TERM_MATRIX = np.zeros((5,5)); BLU_TERM_MATRIX[4,3] = 1\n",
    "OPT_TO_POLICY_MAP = {6 : RED_ACTN_MATRIX, 7 : GRE_ACTN_MATRIX, 8 :\n",
    "YEL_ACTN_MATRIX, 9 : BLU_ACTN_MATRIX}\n",
    "OPT_TO_TERM_MAP = {6 : RED_TERM_MATRIX, 7 : GRE_TERM_MATRIX, 8 :YEL_TERM_MATRIX, 9 : BLU_TERM_MATRIX}"
   ]
  },
  {
   "cell_type": "code",
   "execution_count": 44,
   "metadata": {
    "id": "g4MRC1p2DZbp"
   },
   "outputs": [],
   "source": [
    "def Drive_to_R(env, state):\n",
    "    coords = list(env.decode(state))[:2]\n",
    "    optdone = False\n",
    "    optact = RED_ACTN_MATRIX[coords[0], coords[1]]\n",
    "    if (coords == [0, 0]): # termination at reaching RED\n",
    "        optdone = True\n",
    "    return [optact, optdone]\n",
    "\n",
    "def Drive_to_G(env, state):\n",
    "    coords = list(env.decode(state))[:2]\n",
    "    optdone = False\n",
    "    optact = GRE_ACTN_MATRIX[coords[0], coords[1]]\n",
    "    if (coords == [0, 4]): # termination at reaching GREEN\n",
    "        optdone = True\n",
    "    return [optact, optdone]\n",
    "\n",
    "def Drive_to_Y(env, state):\n",
    "    coords = list(env.decode(state))[:2]\n",
    "    optdone = False\n",
    "    optact = YEL_ACTN_MATRIX[coords[0], coords[1]]\n",
    "    if (coords == [4, 0]): # termination at reaching YELLOW\n",
    "        optdone = True\n",
    "    return [optact, optdone]\n",
    "\n",
    "def Drive_to_B(env, state):\n",
    "    coords = list(env.decode(state))[:2]\n",
    "    optdone = False\n",
    "    optact = BLU_ACTN_MATRIX[coords[0], coords[1]]\n",
    "    if (coords == [4, 3]): # termination at reaching BLUE\n",
    "        optdone = True\n",
    "    return [optact, optdone]"
   ]
  },
  {
   "cell_type": "code",
   "execution_count": 45,
   "metadata": {
    "id": "bh_oghc7Ledh"
   },
   "outputs": [],
   "source": [
    "#Q-Table: (States x Actions) === (env.ns(48) x total actions(6))\n",
    "q_values_IOQL = np.zeros((500,10))\n",
    "R_option_policy=np.zeros((25,4)) # action 6\n",
    "G_option_policy=np.zeros((25,4)) # action 7 \n",
    "B_option_policy=np.zeros((25,4)) # action 8 \n",
    "Y_option_policy=np.zeros((25,4)) # action 9\n",
    "\n",
    "#Update_Frequency Data structure? Check TODO 4\n",
    "update_frequency=np.zeros((500,10))\n",
    "avl_actions = [0, 1, 2, 3, 4, 5, 6, 7, 8, 9]\n",
    "#avl_actions = [6, 7, 8, 9]\n",
    "# TODO: epsilon-greedy action selection function\n",
    "def egreedy_policy_2(q_values,state,epsilon):\n",
    "  if np.random.rand() < epsilon:\n",
    "        return np.random.randint(0,4)\n",
    "  else:\n",
    "        state_row,state_col,_,_=list(env.decode(state))\n",
    "        state_no = state_row*5+state_col\n",
    "        return np.argmax(q_values[state_no])\n",
    "  \n",
    "def egreedy_policy(q_values, state, epsilon,disallow,rg):\n",
    "    if (rg.random() < epsilon):   # epsilon prob for uniform choice over all actions and options\n",
    "        if (disallow != None):\n",
    "            val_actions = avl_actions[:]; val_actions.remove(disallow)\n",
    "            return rg.choice(val_actions)\n",
    "        else:\n",
    "            return rg.choice(avl_actions)\n",
    "    else:                         # 1 - epsilon prob for greedy action/option\n",
    "            return np.argmax(q_values[state])\n",
    "    "
   ]
  },
  {
   "cell_type": "code",
   "execution_count": 46,
   "metadata": {},
   "outputs": [],
   "source": [
    "def learn_R(env, state,q):\n",
    "    coords = list(env.decode(state))[:2]\n",
    "    optdone = False\n",
    "    optact = egreedy_policy_2(q,state,0.9)\n",
    "    if (coords == [0, 0]): # termination at reaching RED\n",
    "        optdone = True\n",
    "    return [optact, optdone]\n",
    "\n",
    "def learn_G(env, state,q):\n",
    "    coords = list(env.decode(state))[:2]\n",
    "    optdone = False\n",
    "    optact = egreedy_policy_2(q,state,0.9)\n",
    "    if (coords == [0, 4]): # termination at reaching RED\n",
    "        optdone = True\n",
    "    return [optact, optdone]\n",
    "\n",
    "def learn_Y(env, state,q):\n",
    "    coords = list(env.decode(state))[:2]\n",
    "    optdone = False\n",
    "    optact = egreedy_policy_2(q,state,0.9)\n",
    "    if (coords == [4, 0]): # termination at reaching RED\n",
    "        optdone = True\n",
    "    return [optact, optdone]\n",
    "\n",
    "def learn_B(env, state,q):\n",
    "    coords = list(env.decode(state))[:2]\n",
    "    optdone = False\n",
    "    optact = egreedy_policy_2(q,state,0.9)\n",
    "    if (coords == [4, 3]): # termination at reaching RED\n",
    "        optdone = True\n",
    "    return [optact, optdone]\n",
    "\n"
   ]
  },
  {
   "cell_type": "code",
   "execution_count": 47,
   "metadata": {},
   "outputs": [],
   "source": [
    "def ioql(alpha,epsilon):\n",
    "    episode_rewards = []\n",
    "    gamma = 0.9\n",
    "    q_values_IOQL = np.zeros((500,10))\n",
    "    R_option_policy=np.zeros((25,4)) \n",
    "    G_option_policy=np.zeros((25,4))  \n",
    "    B_option_policy=np.zeros((25,4)) \n",
    "    Y_option_policy=np.zeros((25,4)) \n",
    "    for _ in tqdm(range(5000)):\n",
    "        \n",
    "        state, _ = env.reset()   \n",
    "        \n",
    "        done = False\n",
    "        total_reward = 0  \n",
    "        while not done:\n",
    "            st_coords = tuple(env.decode(state))[:2]\n",
    "            dis_opts = {(0,0) : 6, (0,4) : 7, (4,0) : 8, (4,3) : 9} \n",
    "            dis_opt = (dis_opts[st_coords] if st_coords in dis_opts.keys() else None) \n",
    "            action = egreedy_policy(q_values_IOQL, state, epsilon, dis_opt,rg= np.random.RandomState(42))   \n",
    "            if action < 6:\n",
    "                next_state, reward, terminated, truncated, info = env.step(action)\n",
    "                done = terminated or truncated\n",
    "                q_values_IOQL[state][action] += alpha * (reward + gamma * np.max(q_values_IOQL[next_state]) - q_values_IOQL[state][action])\n",
    "                update_frequency[state][action] += 1\n",
    "                state = next_state\n",
    "                total_reward += reward \n",
    "            reward_bar = 0\n",
    "            s_state = state\n",
    "            if action == 6: \n",
    "                k = 0\n",
    "                state_row,state_col,_,_=list(env.decode(state))\n",
    "                pos=[state_row,state_col]\n",
    "                optdone = False\n",
    "                while not optdone:\n",
    "                    k += 1\n",
    "                    state_no=state_row*5+state_col\n",
    "                    optact, optdone = learn_R(env, state,R_option_policy) \n",
    "                    next_state, reward, terminated, truncated, info = env.step(optact)\n",
    "                    done = terminated or truncated\n",
    "                    state_row,state_col,_,_=list(env.decode(next_state))\n",
    "                    next_state_no=state_row*5+state_col\n",
    "                    q_values_IOQL[state, optact] += alpha * (reward + gamma*np.max(q_values_IOQL[next_state]) - q_values_IOQL[state, optact])\n",
    "                    update_frequency[state, optact] += 1\n",
    "                    R_option_policy[state_no][optact] += alpha * (reward + gamma * np.max(R_option_policy[next_state_no]) - R_option_policy[state_no][optact])\n",
    "                    options_to_update = [action]\n",
    "                    st_coords = list(env.decode(state))[:2]\n",
    "                    other_options = [7,8,9]\n",
    "                    for oth in other_options:\n",
    "                        if oth == 7:\n",
    "                            pa,pd = learn_G(env,state,G_option_policy)\n",
    "                            if pa == optact:\n",
    "                                options_to_update.append(oth)\n",
    "                        if oth == 8:\n",
    "                            pa,pd = learn_Y(env,state,G_option_policy)\n",
    "                            if pa == optact:\n",
    "                                options_to_update.append(oth)\n",
    "                        if oth == 9:\n",
    "                            pa,pd = learn_B(env,state,G_option_policy)\n",
    "                            if pa == optact:\n",
    "                                options_to_update.append(oth)\n",
    "                    nst_coords = list(env.decode(next_state))[:2]\n",
    "                    for opt in options_to_update:\n",
    "                            term_matrix = OPT_TO_TERM_MAP[opt]\n",
    "                            if term_matrix[nst_coords[0], nst_coords[1]] == 1:\n",
    "                                q_values_IOQL[state, opt] += alpha * (reward + gamma * np.max(q_values_IOQL[next_state]) - q_values_IOQL[state, opt])\n",
    "                                update_frequency[state, opt] += 1\n",
    "                            else:\n",
    "                                # if it does not, we use the option q-value in next state for update\n",
    "                                q_values_IOQL[state, opt] += alpha * (reward + gamma * (q_values_IOQL[next_state, opt]) - q_values_IOQL[state, opt])\n",
    "                                update_frequency[state, opt] += 1\n",
    "                    state = next_state\n",
    "\n",
    "                    reward_bar = gamma * reward_bar + reward\n",
    "                    state_row,state_col,_,_=list(env.decode(state))\n",
    "                    pos=[state_row,state_col]\n",
    "                total_reward += reward_bar \n",
    "            if action == 7: \n",
    "                k = 0\n",
    "                state_row,state_col,_,_=list(env.decode(state))\n",
    "                pos=[state_row,state_col]\n",
    "                optdone = False\n",
    "                while not optdone:\n",
    "                    k += 1\n",
    "                    state_no=state_row*5+state_col\n",
    "                    optact, optdone = learn_G(env, state,R_option_policy) \n",
    "                    next_state, reward, terminated, truncated, info = env.step(optact)\n",
    "                    done = terminated or truncated\n",
    "                    state_row,state_col,_,_=list(env.decode(next_state))\n",
    "                    next_state_no=state_row*5+state_col\n",
    "                    q_values_IOQL[state, optact] += alpha * (reward + gamma*np.max(q_values_IOQL[next_state]) - q_values_IOQL[state, optact])\n",
    "                    update_frequency[state, optact] += 1\n",
    "                    R_option_policy[state_no][optact] += alpha * (reward + gamma * np.max(R_option_policy[next_state_no]) - R_option_policy[state_no][optact])\n",
    "                    options_to_update = [action]\n",
    "                    st_coords = list(env.decode(state))[:2]\n",
    "                    other_options = [6,8,9]\n",
    "                    for oth in other_options:\n",
    "                        if oth == 6:\n",
    "                            pa,pd = learn_R(env,state,G_option_policy)\n",
    "                            if pa == optact:\n",
    "                                options_to_update.append(oth)\n",
    "                        if oth == 8:\n",
    "                            pa,pd = learn_Y(env,state,G_option_policy)\n",
    "                            if pa == optact:\n",
    "                                options_to_update.append(oth)\n",
    "                        if oth == 9:\n",
    "                            pa,pd = learn_B(env,state,G_option_policy)\n",
    "                            if pa == optact:\n",
    "                                options_to_update.append(oth)\n",
    "                    nst_coords = list(env.decode(next_state))[:2]\n",
    "                    for opt in options_to_update:\n",
    "                            term_matrix = OPT_TO_TERM_MAP[opt]\n",
    "                            if term_matrix[nst_coords[0], nst_coords[1]] == 1:\n",
    "                                q_values_IOQL[state, opt] += alpha * (reward + gamma * np.max(q_values_IOQL[next_state]) - q_values_IOQL[state, opt])\n",
    "                                update_frequency[state, opt] += 1\n",
    "                            else:\n",
    "                                q_values_IOQL[state, opt] += alpha * (reward + gamma * (q_values_IOQL[next_state, opt]) - q_values_IOQL[state, opt])\n",
    "                                update_frequency[state, opt] += 1\n",
    "                    state = next_state\n",
    "\n",
    "                    reward_bar = gamma * reward_bar + reward\n",
    "                    state_row,state_col,_,_=list(env.decode(state))\n",
    "                    pos=[state_row,state_col]\n",
    "                total_reward += reward_bar  \n",
    "            if action == 8: \n",
    "                k = 0\n",
    "                state_row,state_col,_,_=list(env.decode(state))\n",
    "                pos=[state_row,state_col]\n",
    "                optdone = False\n",
    "                while not optdone:\n",
    "                    k += 1\n",
    "                    state_no=state_row*5+state_col\n",
    "                    optact, optdone = learn_Y(env, state,R_option_policy) \n",
    "                    next_state, reward, terminated, truncated, info = env.step(optact)\n",
    "                    done = terminated or truncated\n",
    "                    state_row,state_col,_,_=list(env.decode(next_state))\n",
    "                    next_state_no=state_row*5+state_col\n",
    "                    q_values_IOQL[state, optact] += alpha * (reward + gamma*np.max(q_values_IOQL[next_state]) - q_values_IOQL[state, optact])\n",
    "                    update_frequency[state, optact] += 1\n",
    "                    R_option_policy[state_no][optact] += alpha * (reward + gamma * np.max(R_option_policy[next_state_no]) - R_option_policy[state_no][optact])\n",
    "                    options_to_update = [action]\n",
    "                    st_coords = list(env.decode(state))[:2]\n",
    "                    other_options = [6,7,9]\n",
    "                    for oth in other_options:\n",
    "                        if oth == 6:\n",
    "                            pa,pd = learn_R(env,state,G_option_policy)\n",
    "                            if pa == optact:\n",
    "                                options_to_update.append(oth)\n",
    "                        if oth == 7:\n",
    "                            pa,pd = learn_G(env,state,G_option_policy)\n",
    "                            if pa == optact:\n",
    "                                options_to_update.append(oth)\n",
    "                        if oth == 9:\n",
    "                            pa,pd = learn_B(env,state,G_option_policy)\n",
    "                            if pa == optact:\n",
    "                                options_to_update.append(oth)\n",
    "                    nst_coords = list(env.decode(next_state))[:2]\n",
    "                    for opt in options_to_update:\n",
    "                            term_matrix = OPT_TO_TERM_MAP[opt]\n",
    "                            if term_matrix[nst_coords[0], nst_coords[1]] == 1:\n",
    "                                # if the option terminates, we do total max over all actions(and options) in next state\n",
    "                                q_values_IOQL[state, opt] += alpha * (reward + gamma * np.max(q_values_IOQL[next_state]) - q_values_IOQL[state, opt])\n",
    "                                update_frequency[state, opt] += 1\n",
    "                            else:\n",
    "                                # if it does not, we use the option q-value in next state for update\n",
    "                                q_values_IOQL[state, opt] += alpha * (reward + gamma * (q_values_IOQL[next_state, opt]) - q_values_IOQL[state, opt])\n",
    "                                update_frequency[state, opt] += 1\n",
    "                    state = next_state\n",
    "\n",
    "                    reward_bar = gamma * reward_bar + reward\n",
    "                    state_row,state_col,_,_=list(env.decode(state))\n",
    "                    pos=[state_row,state_col]\n",
    "                total_reward += reward_bar  \n",
    "\n",
    "            if action == 9: \n",
    "                k = 0\n",
    "                state_row,state_col,_,_=list(env.decode(state))\n",
    "                pos=[state_row,state_col]\n",
    "                optdone = False\n",
    "                while not optdone:\n",
    "                    k += 1\n",
    "                    state_no=state_row*5+state_col\n",
    "                    optact, optdone = learn_B(env, state,R_option_policy) \n",
    "                    next_state, reward, terminated, truncated, info = env.step(optact)\n",
    "                    done = terminated or truncated\n",
    "                    state_row,state_col,_,_=list(env.decode(next_state))\n",
    "                    next_state_no=state_row*5+state_col\n",
    "                    q_values_IOQL[state, optact] += alpha * (reward + gamma*np.max(q_values_IOQL[next_state]) - q_values_IOQL[state, optact])\n",
    "                    update_frequency[state, optact] += 1\n",
    "                    R_option_policy[state_no][optact] += alpha * (reward + gamma * np.max(R_option_policy[next_state_no]) - R_option_policy[state_no][optact])\n",
    "                    options_to_update = [action]\n",
    "                    st_coords = list(env.decode(state))[:2]\n",
    "                    other_options = [6,7,8]\n",
    "                    for oth in other_options:\n",
    "                        if oth == 6:\n",
    "                            pa,pd = learn_R(env,state,G_option_policy)\n",
    "                            if pa == optact:\n",
    "                                options_to_update.append(oth)\n",
    "                        if oth == 7:\n",
    "                            pa,pd = learn_G(env,state,G_option_policy)\n",
    "                            if pa == optact:\n",
    "                                options_to_update.append(oth)\n",
    "                        if oth == 8:\n",
    "                            pa,pd = learn_Y(env,state,G_option_policy)\n",
    "                            if pa == optact:\n",
    "                                options_to_update.append(oth)\n",
    "                    nst_coords = list(env.decode(next_state))[:2]\n",
    "                    for opt in options_to_update:\n",
    "                            term_matrix = OPT_TO_TERM_MAP[opt]\n",
    "                            if term_matrix[nst_coords[0], nst_coords[1]] == 1:\n",
    "                                q_values_IOQL[state, opt] += alpha * (reward + gamma * np.max(q_values_IOQL[next_state]) - q_values_IOQL[state, opt])\n",
    "                                update_frequency[state, opt] += 1\n",
    "                            else:\n",
    "                                q_values_IOQL[state, opt] += alpha * (reward + gamma * (q_values_IOQL[next_state, opt]) - q_values_IOQL[state, opt])\n",
    "                                update_frequency[state, opt] += 1\n",
    "                    state = next_state\n",
    "\n",
    "                    reward_bar = gamma * reward_bar + reward\n",
    "                    state_row,state_col,_,_=list(env.decode(state))\n",
    "                    pos=[state_row,state_col]\n",
    "                total_reward += reward_bar  \n",
    "            if done:\n",
    "                episode_rewards.append(total_reward) \n",
    "    return sum(episode_rewards[4000:])"
   ]
  },
  {
   "cell_type": "code",
   "execution_count": 48,
   "metadata": {},
   "outputs": [
    {
     "name": "stdout",
     "output_type": "stream",
     "text": [
      "|   iter    |  target   |   alpha   |  epsilon  |\n",
      "-------------------------------------------------\n"
     ]
    },
    {
     "name": "stderr",
     "output_type": "stream",
     "text": [
      "100%|██████████| 5000/5000 [00:17<00:00, 288.63it/s]\n"
     ]
    },
    {
     "name": "stdout",
     "output_type": "stream",
     "text": [
      "| \u001b[0m1        \u001b[0m | \u001b[0m7.873e+03\u001b[0m | \u001b[0m0.3502   \u001b[0m | \u001b[0m0.1857   \u001b[0m |\n"
     ]
    },
    {
     "name": "stderr",
     "output_type": "stream",
     "text": [
      "100%|██████████| 5000/5000 [00:27<00:00, 179.43it/s]\n"
     ]
    },
    {
     "name": "stdout",
     "output_type": "stream",
     "text": [
      "| \u001b[0m2        \u001b[0m | \u001b[0m7.855e+03\u001b[0m | \u001b[0m0.1001   \u001b[0m | \u001b[0m0.08954  \u001b[0m |\n"
     ]
    },
    {
     "name": "stderr",
     "output_type": "stream",
     "text": [
      "100%|██████████| 5000/5000 [00:34<00:00, 144.27it/s]\n"
     ]
    },
    {
     "name": "stdout",
     "output_type": "stream",
     "text": [
      "| \u001b[95m3        \u001b[0m | \u001b[95m7.98e+03 \u001b[0m | \u001b[95m0.1881   \u001b[0m | \u001b[95m0.04124  \u001b[0m |\n"
     ]
    },
    {
     "name": "stderr",
     "output_type": "stream",
     "text": [
      "100%|██████████| 5000/5000 [00:28<00:00, 176.06it/s]\n"
     ]
    },
    {
     "name": "stdout",
     "output_type": "stream",
     "text": [
      "| \u001b[0m4        \u001b[0m | \u001b[0m7.864e+03\u001b[0m | \u001b[0m0.2118   \u001b[0m | \u001b[0m0.09948  \u001b[0m |\n"
     ]
    },
    {
     "name": "stderr",
     "output_type": "stream",
     "text": [
      "100%|██████████| 5000/5000 [00:20<00:00, 239.30it/s]\n"
     ]
    },
    {
     "name": "stdout",
     "output_type": "stream",
     "text": [
      "| \u001b[0m5        \u001b[0m | \u001b[0m7.853e+03\u001b[0m | \u001b[0m0.3381   \u001b[0m | \u001b[0m0.1439   \u001b[0m |\n"
     ]
    },
    {
     "name": "stderr",
     "output_type": "stream",
     "text": [
      "100%|██████████| 5000/5000 [00:26<00:00, 189.66it/s]\n"
     ]
    },
    {
     "name": "stdout",
     "output_type": "stream",
     "text": [
      "| \u001b[0m6        \u001b[0m | \u001b[0m7.847e+03\u001b[0m | \u001b[0m0.1838   \u001b[0m | \u001b[0m0.02765  \u001b[0m |\n"
     ]
    },
    {
     "name": "stderr",
     "output_type": "stream",
     "text": [
      "100%|██████████| 5000/5000 [00:19<00:00, 257.59it/s]\n"
     ]
    },
    {
     "name": "stdout",
     "output_type": "stream",
     "text": [
      "| \u001b[95m7        \u001b[0m | \u001b[95m8.012e+03\u001b[0m | \u001b[95m0.598    \u001b[0m | \u001b[95m0.1718   \u001b[0m |\n"
     ]
    },
    {
     "name": "stderr",
     "output_type": "stream",
     "text": [
      "100%|██████████| 5000/5000 [00:22<00:00, 221.10it/s]\n"
     ]
    },
    {
     "name": "stdout",
     "output_type": "stream",
     "text": [
      "| \u001b[0m8        \u001b[0m | \u001b[0m7.838e+03\u001b[0m | \u001b[0m0.1896   \u001b[0m | \u001b[0m0.1646   \u001b[0m |\n"
     ]
    },
    {
     "name": "stderr",
     "output_type": "stream",
     "text": [
      "100%|██████████| 5000/5000 [00:24<00:00, 206.77it/s]\n"
     ]
    },
    {
     "name": "stdout",
     "output_type": "stream",
     "text": [
      "| \u001b[0m9        \u001b[0m | \u001b[0m7.951e+03\u001b[0m | \u001b[0m0.1516   \u001b[0m | \u001b[0m0.1945   \u001b[0m |\n"
     ]
    },
    {
     "name": "stderr",
     "output_type": "stream",
     "text": [
      "100%|██████████| 5000/5000 [00:17<00:00, 280.58it/s]\n"
     ]
    },
    {
     "name": "stdout",
     "output_type": "stream",
     "text": [
      "| \u001b[0m10       \u001b[0m | \u001b[0m7.897e+03\u001b[0m | \u001b[0m0.3374   \u001b[0m | \u001b[0m0.05714  \u001b[0m |\n"
     ]
    },
    {
     "name": "stderr",
     "output_type": "stream",
     "text": [
      "100%|██████████| 5000/5000 [00:16<00:00, 308.47it/s]\n"
     ]
    },
    {
     "name": "stdout",
     "output_type": "stream",
     "text": [
      "| \u001b[0m11       \u001b[0m | \u001b[0m7.872e+03\u001b[0m | \u001b[0m0.6326   \u001b[0m | \u001b[0m0.1229   \u001b[0m |\n"
     ]
    },
    {
     "name": "stderr",
     "output_type": "stream",
     "text": [
      "100%|██████████| 5000/5000 [00:17<00:00, 282.76it/s]\n"
     ]
    },
    {
     "name": "stdout",
     "output_type": "stream",
     "text": [
      "| \u001b[0m12       \u001b[0m | \u001b[0m7.982e+03\u001b[0m | \u001b[0m0.3594   \u001b[0m | \u001b[0m0.101    \u001b[0m |\n"
     ]
    },
    {
     "name": "stderr",
     "output_type": "stream",
     "text": [
      "100%|██████████| 5000/5000 [00:16<00:00, 296.13it/s]\n"
     ]
    },
    {
     "name": "stdout",
     "output_type": "stream",
     "text": [
      "| \u001b[0m13       \u001b[0m | \u001b[0m7.96e+03 \u001b[0m | \u001b[0m0.4659   \u001b[0m | \u001b[0m0.1104   \u001b[0m |\n"
     ]
    },
    {
     "name": "stderr",
     "output_type": "stream",
     "text": [
      "100%|██████████| 5000/5000 [00:16<00:00, 299.85it/s]\n"
     ]
    },
    {
     "name": "stdout",
     "output_type": "stream",
     "text": [
      "| \u001b[0m14       \u001b[0m | \u001b[0m7.934e+03\u001b[0m | \u001b[0m0.4319   \u001b[0m | \u001b[0m0.1815   \u001b[0m |\n"
     ]
    },
    {
     "name": "stderr",
     "output_type": "stream",
     "text": [
      "100%|██████████| 5000/5000 [00:20<00:00, 245.24it/s]\n"
     ]
    },
    {
     "name": "stdout",
     "output_type": "stream",
     "text": [
      "| \u001b[0m15       \u001b[0m | \u001b[0m7.837e+03\u001b[0m | \u001b[0m0.1891   \u001b[0m | \u001b[0m0.1135   \u001b[0m |\n"
     ]
    },
    {
     "name": "stderr",
     "output_type": "stream",
     "text": [
      "100%|██████████| 5000/5000 [00:22<00:00, 223.40it/s]\n"
     ]
    },
    {
     "name": "stdout",
     "output_type": "stream",
     "text": [
      "| \u001b[95m16       \u001b[0m | \u001b[95m8.073e+03\u001b[0m | \u001b[95m0.1401   \u001b[0m | \u001b[95m0.1429   \u001b[0m |\n"
     ]
    },
    {
     "name": "stderr",
     "output_type": "stream",
     "text": [
      "100%|██████████| 5000/5000 [00:17<00:00, 282.18it/s]\n"
     ]
    },
    {
     "name": "stdout",
     "output_type": "stream",
     "text": [
      "| \u001b[0m17       \u001b[0m | \u001b[0m7.904e+03\u001b[0m | \u001b[0m0.3035   \u001b[0m | \u001b[0m0.08323  \u001b[0m |\n"
     ]
    },
    {
     "name": "stderr",
     "output_type": "stream",
     "text": [
      "100%|██████████| 5000/5000 [00:19<00:00, 256.63it/s]\n"
     ]
    },
    {
     "name": "stdout",
     "output_type": "stream",
     "text": [
      "| \u001b[0m18       \u001b[0m | \u001b[0m8.052e+03\u001b[0m | \u001b[0m0.2146   \u001b[0m | \u001b[0m0.1749   \u001b[0m |\n"
     ]
    },
    {
     "name": "stderr",
     "output_type": "stream",
     "text": [
      "100%|██████████| 5000/5000 [00:16<00:00, 308.15it/s]\n"
     ]
    },
    {
     "name": "stdout",
     "output_type": "stream",
     "text": [
      "| \u001b[0m19       \u001b[0m | \u001b[0m8.006e+03\u001b[0m | \u001b[0m0.6459   \u001b[0m | \u001b[0m0.1157   \u001b[0m |\n"
     ]
    },
    {
     "name": "stderr",
     "output_type": "stream",
     "text": [
      "100%|██████████| 5000/5000 [00:19<00:00, 254.89it/s]"
     ]
    },
    {
     "name": "stdout",
     "output_type": "stream",
     "text": [
      "| \u001b[0m20       \u001b[0m | \u001b[0m7.804e+03\u001b[0m | \u001b[0m0.2008   \u001b[0m | \u001b[0m0.1773   \u001b[0m |\n",
      "=================================================\n"
     ]
    },
    {
     "name": "stderr",
     "output_type": "stream",
     "text": [
      "\n"
     ]
    }
   ],
   "source": [
    "from bayes_opt import BayesianOptimization\n",
    "param_space = {\n",
    "   \n",
    "    'alpha': (0.1, 0.7),\n",
    "    'epsilon': (0.02, 0.25),\n",
    "}\n",
    "optimizer = BayesianOptimization(\n",
    "    f=ioql,\n",
    "    pbounds=param_space,\n",
    "    random_state=1,\n",
    ")\n",
    "optimizer.maximize(\n",
    "    init_points=5,\n",
    "    n_iter=15,\n",
    ")"
   ]
  },
  {
   "cell_type": "code",
   "execution_count": 49,
   "metadata": {},
   "outputs": [
    {
     "name": "stdout",
     "output_type": "stream",
     "text": [
      "{'target': 8073.0, 'params': {'alpha': 0.1400844438047716, 'epsilon': 0.14288597991937635}}\n"
     ]
    }
   ],
   "source": [
    "print(optimizer.max)"
   ]
  },
  {
   "cell_type": "code",
   "execution_count": 50,
   "metadata": {},
   "outputs": [],
   "source": [
    "#Q-Table: (States x Actions) === (env.ns(48) x total actions(6))\n",
    "q_values_IOQL = np.zeros((500,10))\n",
    "R_option_policy=np.zeros((25,4)) # action 6\n",
    "G_option_policy=np.zeros((25,4)) # action 7 \n",
    "B_option_policy=np.zeros((25,4)) # action 8 \n",
    "Y_option_policy=np.zeros((25,4)) # action 9\n",
    "\n",
    "#Update_Frequency Data structure? Check TODO 4\n",
    "update_frequency=np.zeros((500,10))\n",
    "avl_actions = [0, 1, 2, 3, 4, 5, 6, 7, 8, 9]\n",
    "#avl_actions = [6, 7, 8, 9]\n",
    "# TODO: epsilon-greedy action selection function\n",
    "def egreedy_policy_2(q_values,state,epsilon):\n",
    "  if np.random.rand() < epsilon:\n",
    "        return np.random.randint(0,4)\n",
    "  else:\n",
    "        state_row,state_col,_,_=list(env.decode(state))\n",
    "        state_no = state_row*5+state_col\n",
    "        return np.argmax(q_values[state_no])\n",
    "  \n",
    "def egreedy_policy(q_values, state, epsilon,disallow,rg):\n",
    "    if (rg.random() < epsilon):   # epsilon prob for uniform choice over all actions and options\n",
    "        if (disallow != None):\n",
    "            val_actions = avl_actions[:]; val_actions.remove(disallow)\n",
    "            return rg.choice(val_actions)\n",
    "        else:\n",
    "            return rg.choice(avl_actions)\n",
    "    else:                         # 1 - epsilon prob for greedy action/option\n",
    "            return np.argmax(q_values[state])\n",
    "    "
   ]
  },
  {
   "cell_type": "code",
   "execution_count": 51,
   "metadata": {
    "id": "ok_5eQM7OCTj"
   },
   "outputs": [
    {
     "name": "stderr",
     "output_type": "stream",
     "text": [
      "100%|██████████| 500000/500000 [22:23<00:00, 372.25it/s]\n"
     ]
    }
   ],
   "source": [
    "import numpy as np\n",
    "import matplotlib.pyplot as plt\n",
    "from tqdm import tqdm  # tqdm is a library for displaying progress bars\n",
    "\n",
    "# Initialize episode_rewards list to store rewards obtained during each episode\n",
    "episode_rewards = []\n",
    "\n",
    "# Add parameters you might need here\n",
    "gamma = 0.9\n",
    "alpha =  optimizer.max[\"params\"][\"alpha\"]\n",
    "epsilon =  optimizer.max[\"params\"][\"epsilon\"]\n",
    "# Iterate over 1000 episodes\n",
    "for _ in tqdm(range(500000)):\n",
    "    \n",
    "    state, _ = env.reset()   \n",
    "    #print(state)\n",
    "    done = False\n",
    "    total_reward = 0  # Initialize total reward for the episode\n",
    "\n",
    "    # While episode is not over\n",
    "    while not done:\n",
    "       \n",
    "        \n",
    "        # Choose action  \n",
    "        st_coords = tuple(env.decode(state))[:2]\n",
    "        \n",
    "        dis_opts = {(0,0) : 6, (0,4) : 7, (4,0) : 8, (4,3) : 9} \n",
    "        dis_opt = (dis_opts[st_coords] if st_coords in dis_opts.keys() else None) \n",
    "        action = egreedy_policy(q_values_IOQL, state, epsilon, dis_opt,rg= np.random.RandomState(42))   \n",
    "        #print(action,st_coords,\"hello\")\n",
    "        #action = egreedy_policy(q_values_IOQL, state, epsilon)\n",
    "        # Checking if primitive action\n",
    "        if action < 6:\n",
    "            # Perform regular Q-Learning update for state-action pair\n",
    "            next_state, reward, terminated, truncated, info = env.step(action)\n",
    "            done = terminated or truncated\n",
    "            \n",
    "            q_values_IOQL[state][action] += alpha * (reward + gamma * np.max(q_values_IOQL[next_state]) - q_values_IOQL[state][action])\n",
    "            update_frequency[state][action] += 1\n",
    "            \n",
    "            state = next_state\n",
    "            total_reward += reward  # Accumulate reward for the episode\n",
    "        \n",
    "        # Checking if action chosen is an option\n",
    "        reward_bar = 0\n",
    "        s_state = state\n",
    "        if action == 6: # action => Away option\n",
    "            k = 0\n",
    "            state_row,state_col,_,_=list(env.decode(state))\n",
    "            pos=[state_row,state_col]\n",
    "            optdone = False\n",
    "            while not optdone:\n",
    "                k += 1\n",
    "                state_no=state_row*5+state_col\n",
    "                optact, optdone = learn_R(env, state,R_option_policy) \n",
    "                next_state, reward, terminated, truncated, info = env.step(optact)\n",
    "                done = terminated or truncated\n",
    "                state_row,state_col,_,_=list(env.decode(next_state))\n",
    "                next_state_no=state_row*5+state_col\n",
    "                q_values_IOQL[state, optact] += alpha * (reward + gamma*np.max(q_values_IOQL[next_state]) - q_values_IOQL[state, optact])\n",
    "                update_frequency[state, optact] += 1\n",
    "                R_option_policy[state_no][optact] += alpha * (reward + gamma * np.max(R_option_policy[next_state_no]) - R_option_policy[state_no][optact])\n",
    "                options_to_update = [action]\n",
    "                st_coords = list(env.decode(state))[:2]\n",
    "                other_options = [7,8,9]\n",
    "                for oth in other_options:\n",
    "                    if oth == 7:\n",
    "                        pa,pd = learn_G(env,state,G_option_policy)\n",
    "                        if pa == optact:\n",
    "                            options_to_update.append(oth)\n",
    "                    if oth == 8:\n",
    "                        pa,pd = learn_Y(env,state,G_option_policy)\n",
    "                        if pa == optact:\n",
    "                            options_to_update.append(oth)\n",
    "                    if oth == 9:\n",
    "                        pa,pd = learn_B(env,state,G_option_policy)\n",
    "                        if pa == optact:\n",
    "                            options_to_update.append(oth)\n",
    "                nst_coords = list(env.decode(next_state))[:2]\n",
    "                for opt in options_to_update:\n",
    "                        term_matrix = OPT_TO_TERM_MAP[opt]\n",
    "                        if term_matrix[nst_coords[0], nst_coords[1]] == 1:\n",
    "                            # if the option terminates, we do total max over all actions(and options) in next state\n",
    "                            q_values_IOQL[state, opt] += alpha * (reward + gamma * np.max(q_values_IOQL[next_state]) - q_values_IOQL[state, opt])\n",
    "                            update_frequency[state, opt] += 1\n",
    "                        else:\n",
    "                            # if it does not, we use the option q-value in next state for update\n",
    "                            q_values_IOQL[state, opt] += alpha * (reward + gamma * (q_values_IOQL[next_state, opt]) - q_values_IOQL[state, opt])\n",
    "                            update_frequency[state, opt] += 1\n",
    "                state = next_state\n",
    "\n",
    "                reward_bar = gamma * reward_bar + reward\n",
    "                state_row,state_col,_,_=list(env.decode(state))\n",
    "                pos=[state_row,state_col]\n",
    "                \n",
    "            #q_values_IOQL[s_state][6] += alpha * (reward_bar + (gamma ** k) * np.max(q_values_IOQL[next_state]) - q_values_IOQL[s_state][6])\n",
    "            #update_frequency[state][6] += 1\n",
    "            total_reward += reward_bar  # Accumulate reward for the episode\n",
    "\n",
    "        # Update state for other option actions (similar to action 6)\n",
    "        if action == 7: # action => Away option\n",
    "            k = 0\n",
    "            state_row,state_col,_,_=list(env.decode(state))\n",
    "            pos=[state_row,state_col]\n",
    "            optdone = False\n",
    "            while not optdone:\n",
    "                k += 1\n",
    "                state_no=state_row*5+state_col\n",
    "                optact, optdone = learn_G(env, state,R_option_policy) \n",
    "                next_state, reward, terminated, truncated, info = env.step(optact)\n",
    "                done = terminated or truncated\n",
    "                state_row,state_col,_,_=list(env.decode(next_state))\n",
    "                next_state_no=state_row*5+state_col\n",
    "                q_values_IOQL[state, optact] += alpha * (reward + gamma*np.max(q_values_IOQL[next_state]) - q_values_IOQL[state, optact])\n",
    "                update_frequency[state, optact] += 1\n",
    "                R_option_policy[state_no][optact] += alpha * (reward + gamma * np.max(R_option_policy[next_state_no]) - R_option_policy[state_no][optact])\n",
    "                options_to_update = [action]\n",
    "                st_coords = list(env.decode(state))[:2]\n",
    "                other_options = [6,8,9]\n",
    "                for oth in other_options:\n",
    "                    if oth == 6:\n",
    "                        pa,pd = learn_R(env,state,G_option_policy)\n",
    "                        if pa == optact:\n",
    "                            options_to_update.append(oth)\n",
    "                    if oth == 8:\n",
    "                        pa,pd = learn_Y(env,state,G_option_policy)\n",
    "                        if pa == optact:\n",
    "                            options_to_update.append(oth)\n",
    "                    if oth == 9:\n",
    "                        pa,pd = learn_B(env,state,G_option_policy)\n",
    "                        if pa == optact:\n",
    "                            options_to_update.append(oth)\n",
    "                nst_coords = list(env.decode(next_state))[:2]\n",
    "                for opt in options_to_update:\n",
    "                        term_matrix = OPT_TO_TERM_MAP[opt]\n",
    "                        if term_matrix[nst_coords[0], nst_coords[1]] == 1:\n",
    "                            # if the option terminates, we do total max over all actions(and options) in next state\n",
    "                            q_values_IOQL[state, opt] += alpha * (reward + gamma * np.max(q_values_IOQL[next_state]) - q_values_IOQL[state, opt])\n",
    "                            update_frequency[state, opt] += 1\n",
    "                        else:\n",
    "                            # if it does not, we use the option q-value in next state for update\n",
    "                            q_values_IOQL[state, opt] += alpha * (reward + gamma * (q_values_IOQL[next_state, opt]) - q_values_IOQL[state, opt])\n",
    "                            update_frequency[state, opt] += 1\n",
    "                state = next_state\n",
    "\n",
    "                reward_bar = gamma * reward_bar + reward\n",
    "                state_row,state_col,_,_=list(env.decode(state))\n",
    "                pos=[state_row,state_col]\n",
    "                \n",
    "            #q_values_IOQL[s_state][6] += alpha * (reward_bar + (gamma ** k) * np.max(q_values_IOQL[next_state]) - q_values_IOQL[s_state][6])\n",
    "            #update_frequency[state][6] += 1\n",
    "            total_reward += reward_bar  # Accumulate reward for the episode\n",
    "\n",
    "        if action == 8: # action => Away option\n",
    "            k = 0\n",
    "            state_row,state_col,_,_=list(env.decode(state))\n",
    "            pos=[state_row,state_col]\n",
    "            optdone = False\n",
    "            while not optdone:\n",
    "                k += 1\n",
    "                state_no=state_row*5+state_col\n",
    "                optact, optdone = learn_Y(env, state,R_option_policy) \n",
    "                next_state, reward, terminated, truncated, info = env.step(optact)\n",
    "                done = terminated or truncated\n",
    "                state_row,state_col,_,_=list(env.decode(next_state))\n",
    "                next_state_no=state_row*5+state_col\n",
    "                q_values_IOQL[state, optact] += alpha * (reward + gamma*np.max(q_values_IOQL[next_state]) - q_values_IOQL[state, optact])\n",
    "                update_frequency[state, optact] += 1\n",
    "                R_option_policy[state_no][optact] += alpha * (reward + gamma * np.max(R_option_policy[next_state_no]) - R_option_policy[state_no][optact])\n",
    "                options_to_update = [action]\n",
    "                st_coords = list(env.decode(state))[:2]\n",
    "                other_options = [6,7,9]\n",
    "                for oth in other_options:\n",
    "                    if oth == 6:\n",
    "                        pa,pd = learn_R(env,state,G_option_policy)\n",
    "                        if pa == optact:\n",
    "                            options_to_update.append(oth)\n",
    "                    if oth == 7:\n",
    "                        pa,pd = learn_G(env,state,G_option_policy)\n",
    "                        if pa == optact:\n",
    "                            options_to_update.append(oth)\n",
    "                    if oth == 9:\n",
    "                        pa,pd = learn_B(env,state,G_option_policy)\n",
    "                        if pa == optact:\n",
    "                            options_to_update.append(oth)\n",
    "                nst_coords = list(env.decode(next_state))[:2]\n",
    "                for opt in options_to_update:\n",
    "                        term_matrix = OPT_TO_TERM_MAP[opt]\n",
    "                        if term_matrix[nst_coords[0], nst_coords[1]] == 1:\n",
    "                            # if the option terminates, we do total max over all actions(and options) in next state\n",
    "                            q_values_IOQL[state, opt] += alpha * (reward + gamma * np.max(q_values_IOQL[next_state]) - q_values_IOQL[state, opt])\n",
    "                            update_frequency[state, opt] += 1\n",
    "                        else:\n",
    "                            # if it does not, we use the option q-value in next state for update\n",
    "                            q_values_IOQL[state, opt] += alpha * (reward + gamma * (q_values_IOQL[next_state, opt]) - q_values_IOQL[state, opt])\n",
    "                            update_frequency[state, opt] += 1\n",
    "                state = next_state\n",
    "\n",
    "                reward_bar = gamma * reward_bar + reward\n",
    "                state_row,state_col,_,_=list(env.decode(state))\n",
    "                pos=[state_row,state_col]\n",
    "                \n",
    "            #q_values_IOQL[s_state][6] += alpha * (reward_bar + (gamma ** k) * np.max(q_values_IOQL[next_state]) - q_values_IOQL[s_state][6])\n",
    "            #update_frequency[state][6] += 1\n",
    "            total_reward += reward_bar  # Accumulate reward for the episode\n",
    "\n",
    "        if action == 9: # action => Away option\n",
    "            k = 0\n",
    "            state_row,state_col,_,_=list(env.decode(state))\n",
    "            pos=[state_row,state_col]\n",
    "            optdone = False\n",
    "            while not optdone:\n",
    "                k += 1\n",
    "                state_no=state_row*5+state_col\n",
    "                optact, optdone = learn_B(env, state,R_option_policy) \n",
    "                next_state, reward, terminated, truncated, info = env.step(optact)\n",
    "                done = terminated or truncated\n",
    "                state_row,state_col,_,_=list(env.decode(next_state))\n",
    "                next_state_no=state_row*5+state_col\n",
    "                q_values_IOQL[state, optact] += alpha * (reward + gamma*np.max(q_values_IOQL[next_state]) - q_values_IOQL[state, optact])\n",
    "                update_frequency[state, optact] += 1\n",
    "                R_option_policy[state_no][optact] += alpha * (reward + gamma * np.max(R_option_policy[next_state_no]) - R_option_policy[state_no][optact])\n",
    "                options_to_update = [action]\n",
    "                st_coords = list(env.decode(state))[:2]\n",
    "                other_options = [6,7,8]\n",
    "                for oth in other_options:\n",
    "                    if oth == 6:\n",
    "                        pa,pd = learn_R(env,state,G_option_policy)\n",
    "                        if pa == optact:\n",
    "                            options_to_update.append(oth)\n",
    "                    if oth == 7:\n",
    "                        pa,pd = learn_G(env,state,G_option_policy)\n",
    "                        if pa == optact:\n",
    "                            options_to_update.append(oth)\n",
    "                    if oth == 8:\n",
    "                        pa,pd = learn_Y(env,state,G_option_policy)\n",
    "                        if pa == optact:\n",
    "                            options_to_update.append(oth)\n",
    "                nst_coords = list(env.decode(next_state))[:2]\n",
    "                for opt in options_to_update:\n",
    "                        term_matrix = OPT_TO_TERM_MAP[opt]\n",
    "                        if term_matrix[nst_coords[0], nst_coords[1]] == 1:\n",
    "                            # if the option terminates, we do total max over all actions(and options) in next state\n",
    "                            q_values_IOQL[state, opt] += alpha * (reward + gamma * np.max(q_values_IOQL[next_state]) - q_values_IOQL[state, opt])\n",
    "                            update_frequency[state, opt] += 1\n",
    "                        else:\n",
    "                            # if it does not, we use the option q-value in next state for update\n",
    "                            q_values_IOQL[state, opt] += alpha * (reward + gamma * (q_values_IOQL[next_state, opt]) - q_values_IOQL[state, opt])\n",
    "                            update_frequency[state, opt] += 1\n",
    "                state = next_state\n",
    "\n",
    "                reward_bar = gamma * reward_bar + reward\n",
    "                state_row,state_col,_,_=list(env.decode(state))\n",
    "                pos=[state_row,state_col]\n",
    "                \n",
    "            #q_values_IOQL[s_state][6] += alpha * (reward_bar + (gamma ** k) * np.max(q_values_IOQL[next_state]) - q_values_IOQL[s_state][6])\n",
    "            #update_frequency[state][6] += 1\n",
    "            total_reward += reward_bar  # Accumulate reward for the episode\n",
    "\n",
    "\n",
    "        # Check if episode is done\n",
    "        if done:\n",
    "            episode_rewards.append(total_reward)  # Append total reward for the episode\n",
    "\n",
    "# Plot rewards vs. episodes\n",
    "\n",
    "\n",
    "\n",
    "        "
   ]
  },
  {
   "cell_type": "code",
   "execution_count": 57,
   "metadata": {},
   "outputs": [
    {
     "data": {
      "image/png": "[encoded data removed]",
      "text/plain": [
       "<Figure size 1152x576 with 1 Axes>"
      ]
     },
     "metadata": {
      "needs_background": "light"
     },
     "output_type": "display_data"
    }
   ],
   "source": [
    "fig, ax = plt.subplots(figsize=(16,8))\n",
    "plt.plot(range(1,4000 + 1), episode_rewards[:4000])\n",
    "\n",
    "plt.xlabel('Episodes')\n",
    "\n",
    "plt.ylabel('Total Rewards')\n",
    "plt.title('Rewards vs. Episodes')\n",
    "plt.grid(True)\n",
    "plt.show()"
   ]
  },
  {
   "cell_type": "code",
   "execution_count": 58,
   "metadata": {},
   "outputs": [],
   "source": [
    "def visualize_q_values(q_values, msg, pass_src = None, pass_dest = None):\n",
    "    assert(pass_src != None and pass_dest != None)\n",
    "\n",
    "    req_actions = [[None for _ in range(5)] for _ in range(5)]\n",
    "    req_q_values = [[None for _ in range(5)] for _ in range(5)]\n",
    "    temp_env = gym.make('Taxi-v3')\n",
    "    for s in range(500):\n",
    "        s_vec = list(temp_env.decode(s))\n",
    "        if s_vec[2] == pass_src and s_vec[3] == pass_dest:\n",
    "            req_actions[s_vec[0]][s_vec[1]] = np.argmax(q_values[s])\n",
    "            req_q_values[s_vec[0]][s_vec[1]] = np.max(q_values[s])\n",
    "    req_actions = np.array(req_actions)\n",
    "    fig, ax = plt.subplots(figsize=(8,8))\n",
    "    ax.set_title(msg)\n",
    "    ax.invert_yaxis()\n",
    "    ax.xaxis.tick_top()\n",
    "    ax.set_xlabel('Columns')\n",
    "    ax.xaxis.set_label_position('top') \n",
    "    ax.set_ylabel('Rows')\n",
    "    mesh = ax.pcolormesh(req_q_values, edgecolors='k', linewidths=2)\n",
    "    fig.colorbar(mesh)\n",
    "    def x_direct(a):\n",
    "        if a in [4,5,6,7,8]:\n",
    "            return 0\n",
    "        if a in [0, 1]:\n",
    "            return 0\n",
    "        return 1 if a == 2 else -1\n",
    "    def y_direct(a):\n",
    "        if a in [4,5,6,7,8]:\n",
    "            return 0\n",
    "        if a in [2, 3]:\n",
    "            return 0\n",
    "        return 1 if a == 1 else -1\n",
    "    idx = np.indices((5,5))\n",
    "    policyx = np.vectorize(x_direct)(req_actions)\n",
    "    policyy = np.vectorize(y_direct)(req_actions)\n",
    "    req_action_dict = {4 : 'Pickup', 5 : 'Drop', 6 : 'R', 7 : 'G', 8 : 'Y', 9 : 'B'}\n",
    "    for i,j,px,py in zip(idx[1].ravel(), idx[0].ravel(), policyx.ravel(), policyy.ravel()):\n",
    "        if (req_actions[j, i] < 4):\n",
    "            ax.quiver(i+0.5, j+0.5, px, py, pivot=\"middle\", scale=10,color='red')\n",
    "        else:\n",
    "            ax.text(i+0.5, j+0.5, req_action_dict[req_actions[j][i]], horizontalalignment='center',verticalalignment='center',color='tomato')\n",
    "    "
   ]
  },
  {
   "cell_type": "code",
   "execution_count": 65,
   "metadata": {},
   "outputs": [
    {
     "data": {
      "image/png": "[encoded data removed]",
      "text/plain": [
       "<Figure size 576x576 with 2 Axes>"
      ]
     },
     "metadata": {
      "needs_background": "light"
     },
     "output_type": "display_data"
    }
   ],
   "source": [
    "visualize_q_values(q_values_IOQL, \"Passenger Inside the car, Destination R\", 4, 0)"
   ]
  },
  {
   "cell_type": "code",
   "execution_count": 66,
   "metadata": {},
   "outputs": [
    {
     "data": {
      "image/png": "[encoded data removed]",
      "text/plain": [
       "<Figure size 576x576 with 2 Axes>"
      ]
     },
     "metadata": {
      "needs_background": "light"
     },
     "output_type": "display_data"
    }
   ],
   "source": [
    "visualize_q_values(q_values_IOQL, \"Passenger inside the car, destintion G\",  4, 1)"
   ]
  },
  {
   "cell_type": "code",
   "execution_count": 67,
   "metadata": {},
   "outputs": [
    {
     "data": {
      "image/png": "[encoded data removed]",
      "text/plain": [
       "<Figure size 576x576 with 2 Axes>"
      ]
     },
     "metadata": {
      "needs_background": "light"
     },
     "output_type": "display_data"
    }
   ],
   "source": [
    "visualize_q_values(q_values_IOQL, \"Passenger inside the car, destination Y\",  4, 2)"
   ]
  },
  {
   "cell_type": "code",
   "execution_count": 68,
   "metadata": {},
   "outputs": [
    {
     "data": {
      "image/png": "[encoded data removed]",
      "text/plain": [
       "<Figure size 576x576 with 2 Axes>"
      ]
     },
     "metadata": {
      "needs_background": "light"
     },
     "output_type": "display_data"
    }
   ],
   "source": [
    "visualize_q_values(q_values_IOQL, \"Passenger Inisde the car, destination B\",  4, 3)"
   ]
  },
  {
   "cell_type": "code",
   "execution_count": 69,
   "metadata": {},
   "outputs": [
    {
     "data": {
      "image/png": "[encoded data removed]",
      "text/plain": [
       "<Figure size 576x576 with 2 Axes>"
      ]
     },
     "metadata": {
      "needs_background": "light"
     },
     "output_type": "display_data"
    }
   ],
   "source": [
    "visualize_q_values(q_values_IOQL, \"Pickup at R\",  0, 1)"
   ]
  },
  {
   "cell_type": "code",
   "execution_count": 73,
   "metadata": {},
   "outputs": [
    {
     "data": {
      "image/png": "[encoded data removed]",
      "text/plain": [
       "<Figure size 576x576 with 2 Axes>"
      ]
     },
     "metadata": {
      "needs_background": "light"
     },
     "output_type": "display_data"
    }
   ],
   "source": [
    "visualize_q_values(q_values_IOQL, \"Pickup at B\",  3, 1)"
   ]
  },
  {
   "cell_type": "code",
   "execution_count": 70,
   "metadata": {},
   "outputs": [
    {
     "data": {
      "image/png": "[encoded data removed]",
      "text/plain": [
       "<Figure size 576x576 with 2 Axes>"
      ]
     },
     "metadata": {
      "needs_background": "light"
     },
     "output_type": "display_data"
    }
   ],
   "source": [
    "visualize_q_values(q_values_IOQL, \"Pickup at Y\", 2, 1)"
   ]
  },
  {
   "cell_type": "code",
   "execution_count": null,
   "metadata": {},
   "outputs": [],
   "source": []
  },
  {
   "cell_type": "code",
   "execution_count": null,
   "metadata": {},
   "outputs": [],
   "source": []
  },
  {
   "cell_type": "code",
   "execution_count": null,
   "metadata": {},
   "outputs": [],
   "source": []
  }
 ],
 "metadata": {
  "accelerator": "GPU",
  "colab": {
   "collapsed_sections": [
    "5LBh6_lOVBdN"
   ],
   "name": "Tutorial 5 - Options Intro",
   "provenance": []
  },
  "kernelspec": {
   "display_name": "Python 3 (ipykernel)",
   "language": "python",
   "name": "python3"
  },
  "language_info": {
   "codemirror_mode": {
    "name": "ipython",
    "version": 3
   },
   "file_extension": ".py",
   "mimetype": "text/x-python",
   "name": "python",
   "nbconvert_exporter": "python",
   "pygments_lexer": "ipython3",
   "version": "3.10.2"
  }
 },
 "nbformat": 4,
 "nbformat_minor": 1
}
