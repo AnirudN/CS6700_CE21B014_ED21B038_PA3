{
 "cells": [
  {
   "cell_type": "markdown",
   "metadata": {},
   "source": [
    "Intra Option Q Learning"
   ]
  },
  {
   "cell_type": "markdown",
   "metadata": {},
   "source": [
    "1. Learning the options simultaneously"
   ]
  },
  {
   "cell_type": "code",
   "execution_count": 2,
   "metadata": {
    "id": "P_DODRgW_ZKS"
   },
   "outputs": [],
   "source": [
    "'''\n",
    "A bunch of imports, you don't have to worry about these\n",
    "'''\n",
    "\n",
    "import numpy as np\n",
    "from tqdm import tqdm\n",
    "import random\n",
    "import gym\n",
    "import glob\n",
    "import io\n",
    "import matplotlib.pyplot as plt"
   ]
  },
  {
   "cell_type": "code",
   "execution_count": 3,
   "metadata": {
    "colab": {
     "base_uri": "https://localhost:8080/"
    },
    "id": "fYNA5kiH_esJ",
    "outputId": "626ad5c9-8608-4ccb-8b05-f72ca4af8d77"
   },
   "outputs": [
    {
     "name": "stdout",
     "output_type": "stream",
     "text": [
      "()\n",
      "6\n",
      "4\n",
      "----\n",
      "(328, {'prob': 1.0, 'action_mask': array([1, 1, 1, 0, 0, 0], dtype=int8)}) state\n",
      "----\n",
      "2\n",
      "----\n",
      "348 nextstate\n",
      "-1\n",
      "False\n",
      "False\n",
      "{'prob': 1.0, 'action_mask': array([1, 1, 0, 1, 0, 0], dtype=int8)}\n",
      "----\n"
     ]
    },
    {
     "name": "stderr",
     "output_type": "stream",
     "text": [
      "e:\\python\\lib\\site-packages\\gym\\utils\\passive_env_checker.py:233: DeprecationWarning: `np.bool8` is a deprecated alias for `np.bool_`.  (Deprecated NumPy 1.24)\n",
      "  if not isinstance(terminated, (bool, np.bool8)):\n"
     ]
    }
   ],
   "source": [
    "seed = 543\n",
    "#Setting up the environment\n",
    "env = gym.make('Taxi-v3')\n",
    "env.reset(seed=seed)\n",
    "\n",
    "state_shape = env.observation_space.shape\n",
    "no_of_actions = env.action_space.n\n",
    "\n",
    "print(state_shape)\n",
    "print(no_of_actions)\n",
    "print(env.action_space.sample())\n",
    "print(\"----\")\n",
    "\n",
    "state = env.reset()\n",
    "''' This returns the initial state (when environment is reset) '''\n",
    "\n",
    "print(state,\"state\")\n",
    "print(\"----\")\n",
    "\n",
    "action = env.action_space.sample()\n",
    "''' We take a random action now '''\n",
    "\n",
    "print(action)\n",
    "print(\"----\")\n",
    "\n",
    "next_state, reward, terminated, truncated, info = env.step(action)\n",
    "''' env.step is used to calculate new state and obtain reward based on old state and action taken  '''\n",
    "\n",
    "print(next_state,\"nextstate\")\n",
    "print(reward)\n",
    "print(terminated)\n",
    "print(truncated)\n",
    "print(info)\n",
    "print(\"----\")"
   ]
  },
  {
   "cell_type": "code",
   "execution_count": 4,
   "metadata": {},
   "outputs": [],
   "source": [
    "r1_MATRIX = np.array([[0,0,0,0,0],[0,0,0,0,0],[0,3,3,3,3],[1,1,1,1,1],[1,1,1,1,1]])\n",
    "r1_TERM_MATRIX = np.array([[0,0,0,0,0],[0,0,0,0,0],[1,0,0,0,0],[0,0,0,0,0],[0,0,0,0,0]])\n",
    "r2_MATRIX = np.array([[0,0,0,0,0],[0,0,0,0,0],[2,2,2,2,3],[1,1,1,1,1],[1,1,1,1,1]])\n",
    "r2_TERM_MATRIX = np.array([[0,0,0,0,0],[0,0,0,0,0],[0,0,0,1,0],[0,0,0,0,0],[0,0,0,0,0]])\n",
    "OPT_TO_POLICY_MAP = {6 : r1_MATRIX, 7 : r2_MATRIX}\n",
    "OPT_TO_TERM_MAP = {6 : r1_TERM_MATRIX, 7 : r2_TERM_MATRIX}"
   ]
  },
  {
   "cell_type": "code",
   "execution_count": 5,
   "metadata": {
    "id": "g4MRC1p2DZbp"
   },
   "outputs": [],
   "source": [
    "\n",
    "def Drive_to_r1(env, state):\n",
    "    coords = list(env.decode(state))[:2]\n",
    "    optdone = False\n",
    "    optact = r1_MATRIX[coords[0], coords[1]]\n",
    "\n",
    "    if (coords == [2, 0]): \n",
    "        optdone = True\n",
    "    \n",
    "    return [optact, optdone]\n",
    "\n",
    "def Drive_to_r2(env, state):\n",
    "    coords = list(env.decode(state))[:2]\n",
    "    optdone = False\n",
    "    optact = r2_MATRIX[coords[0], coords[1]]\n",
    "    \n",
    "    if (coords == [2, 3]):\n",
    "        optdone = True\n",
    "    \n",
    "    return [optact, optdone]"
   ]
  },
  {
   "cell_type": "code",
   "execution_count": 6,
   "metadata": {
    "id": "bh_oghc7Ledh"
   },
   "outputs": [],
   "source": [
    "#Q-Table: (States x Actions) === (env.ns(48) x total actions(6))\n",
    "q_values_SMDP = np.zeros((500,8))\n",
    "R_option_policy=np.zeros((25,4)) # action 6\n",
    "G_option_policy=np.zeros((25,4)) # action 7 \n",
    "B_option_policy=np.zeros((25,4)) # action 8 \n",
    "Y_option_policy=np.zeros((25,4)) # action 9\n",
    "\n",
    "#Update_Frequency Data structure? Check TODO 4\n",
    "update_frequency=np.zeros((500,10))\n",
    "avl_actions = [0, 1, 2, 3, 4, 5, 6, 7]\n",
    "#avl_actions = [6, 7, 8, 9]\n",
    "# TODO: epsilon-greedy action selection function\n",
    "def egreedy_policy_2(q_values,state,epsilon):\n",
    "  if np.random.rand() < epsilon:\n",
    "        return np.random.randint(0,4)\n",
    "  else:\n",
    "        state_row,state_col,_,_=list(env.decode(state))\n",
    "        state_no = state_row*5+state_col\n",
    "        return np.argmax(q_values[state_no])\n",
    "  \n",
    "def egreedy_policy(q_values, state, epsilon,disallow,rg):\n",
    "    if (rg.random() < epsilon):   # epsilon prob for uniform choice over all actions and options\n",
    "        if (disallow != None):\n",
    "            val_actions = avl_actions[:]; val_actions.remove(disallow)\n",
    "            return rg.choice(val_actions)\n",
    "        else:\n",
    "            return rg.choice(avl_actions)\n",
    "    else:                         # 1 - epsilon prob for greedy action/option\n",
    "            return np.argmax(q_values[state])\n",
    "    "
   ]
  },
  {
   "cell_type": "code",
   "execution_count": 7,
   "metadata": {},
   "outputs": [],
   "source": [
    "def learn_R1(env, state,q):\n",
    "    coords = list(env.decode(state))[:2]\n",
    "    optdone = False\n",
    "    optact = egreedy_policy_2(q,state,0.9)\n",
    "    if (coords == [2, 0]): # termination at reaching RED\n",
    "        optdone = True\n",
    "    return [optact, optdone]\n",
    "\n",
    "def learn_R2(env, state,q):\n",
    "    coords = list(env.decode(state))[:2]\n",
    "    optdone = False\n",
    "    optact = egreedy_policy_2(q,state,0.9)\n",
    "    if (coords == [2, 3]): # termination at reaching RED\n",
    "        optdone = True\n",
    "    return [optact, optdone]\n",
    "\n",
    "\n"
   ]
  },
  {
   "cell_type": "code",
   "execution_count": 12,
   "metadata": {},
   "outputs": [],
   "source": [
    "def ioql_cus(alpha,epsilon):\n",
    "   \n",
    "\n",
    "    # Initialize episode_rewards list to store rewards obtained during each episode\n",
    "    episode_rewards = []\n",
    "    \n",
    "    # Add parameters you might need here\n",
    "    gamma = 0.9\n",
    "    q_values_SMDP = np.zeros((500,8))\n",
    "    R_option_policy=np.zeros((25,4)) # action 6\n",
    "    G_option_policy=np.zeros((25,4)) # action 7 \n",
    "    B_option_policy=np.zeros((25,4)) # action 8 \n",
    "    Y_option_policy=np.zeros((25,4)) # action 9\n",
    "\n",
    "\n",
    "    # Iterate over 1000 episodes\n",
    "    for _ in tqdm(range(5000)):\n",
    "        \n",
    "        state, _ = env.reset()   \n",
    "        #print(state)\n",
    "        done = False\n",
    "        total_reward = 0  # Initialize total reward for the episode\n",
    "\n",
    "        # While episode is not over\n",
    "        while not done:\n",
    "        \n",
    "            \n",
    "            # Choose action  \n",
    "            st_coords = tuple(env.decode(state))[:2]\n",
    "            \n",
    "            dis_opts = {(0,0) : 6, (0,4) : 7, (4,0) : 8, (4,3) : 9} \n",
    "            dis_opt = (dis_opts[st_coords] if st_coords in dis_opts.keys() else None) \n",
    "            action = egreedy_policy(q_values_SMDP, state, epsilon, dis_opt,rg= np.random.RandomState(42))   \n",
    "            #print(action,st_coords,\"hello\")\n",
    "            #action = egreedy_policy(q_values_SMDP, state, epsilon)\n",
    "            # Checking if primitive action\n",
    "            if action < 6:\n",
    "                # Perform regular Q-Learning update for state-action pair\n",
    "                next_state, reward, terminated, truncated, info = env.step(action)\n",
    "                done = terminated or truncated\n",
    "                \n",
    "                q_values_SMDP[state][action] += alpha * (reward + gamma * np.max(q_values_SMDP[next_state]) - q_values_SMDP[state][action])\n",
    "                update_frequency[state][action] += 1\n",
    "                \n",
    "                state = next_state\n",
    "                total_reward += reward  # Accumulate reward for the episode\n",
    "            \n",
    "            # Checking if action chosen is an option\n",
    "            reward_bar = 0\n",
    "            s_state = state\n",
    "            if action == 6: # action => Away option\n",
    "                k = 0\n",
    "                state_row,state_col,_,_=list(env.decode(state))\n",
    "                pos=[state_row,state_col]\n",
    "                optdone = False\n",
    "                while not optdone:\n",
    "                    k += 1\n",
    "                    state_no=state_row*5+state_col\n",
    "                    optact, optdone = learn_R1(env, state,R_option_policy) \n",
    "                    next_state, reward, terminated, truncated, info = env.step(optact)\n",
    "                    done = terminated or truncated\n",
    "                    state_row,state_col,_,_=list(env.decode(next_state))\n",
    "                    next_state_no=state_row*5+state_col\n",
    "                    q_values_SMDP[state, optact] += alpha * (reward + gamma*np.max(q_values_SMDP[next_state]) - q_values_SMDP[state, optact])\n",
    "                    update_frequency[state, optact] += 1\n",
    "                    R_option_policy[state_no][optact] += alpha * (reward + gamma * np.max(R_option_policy[next_state_no]) - R_option_policy[state_no][optact])\n",
    "                    options_to_update = [action]\n",
    "                    st_coords = list(env.decode(state))[:2]\n",
    "                    other_options = [7,]\n",
    "                    for oth in other_options:\n",
    "                        if oth == 7:\n",
    "                            pa,pd = learn_R2(env,state,G_option_policy)\n",
    "                            if pa == optact:\n",
    "                                options_to_update.append(oth)\n",
    "                    \n",
    "                    nst_coords = list(env.decode(next_state))[:2]\n",
    "                    for opt in options_to_update:\n",
    "                            term_matrix = OPT_TO_TERM_MAP[opt]\n",
    "                            if term_matrix[nst_coords[0], nst_coords[1]] == 1:\n",
    "                                # if the option terminates, we do total max over all actions(and options) in next state\n",
    "                                q_values_SMDP[state, opt] += alpha * (reward + gamma * np.max(q_values_SMDP[next_state]) - q_values_SMDP[state, opt])\n",
    "                                update_frequency[state, opt] += 1\n",
    "                            else:\n",
    "                                # if it does not, we use the option q-value in next state for update\n",
    "                                q_values_SMDP[state, opt] += alpha * (reward + gamma * (q_values_SMDP[next_state, opt]) - q_values_SMDP[state, opt])\n",
    "                                update_frequency[state, opt] += 1\n",
    "                    state = next_state\n",
    "\n",
    "                    reward_bar = gamma * reward_bar + reward\n",
    "                    state_row,state_col,_,_=list(env.decode(state))\n",
    "                    pos=[state_row,state_col]\n",
    "                    \n",
    "                #q_values_SMDP[s_state][6] += alpha * (reward_bar + (gamma ** k) * np.max(q_values_SMDP[next_state]) - q_values_SMDP[s_state][6])\n",
    "                #update_frequency[state][6] += 1\n",
    "                total_reward += reward_bar  # Accumulate reward for the episode\n",
    "\n",
    "            # Update state for other option actions (similar to action 6)\n",
    "            if action == 7: # action => Away option\n",
    "                k = 0\n",
    "                state_row,state_col,_,_=list(env.decode(state))\n",
    "                pos=[state_row,state_col]\n",
    "                optdone = False\n",
    "                while not optdone:\n",
    "                    k += 1\n",
    "                    state_no=state_row*5+state_col\n",
    "                    optact, optdone = learn_R2(env, state,R_option_policy) \n",
    "                    next_state, reward, terminated, truncated, info = env.step(optact)\n",
    "                    done = terminated or truncated\n",
    "                    state_row,state_col,_,_=list(env.decode(next_state))\n",
    "                    next_state_no=state_row*5+state_col\n",
    "                    q_values_SMDP[state, optact] += alpha * (reward + gamma*np.max(q_values_SMDP[next_state]) - q_values_SMDP[state, optact])\n",
    "                    update_frequency[state, optact] += 1\n",
    "                    R_option_policy[state_no][optact] += alpha * (reward + gamma * np.max(R_option_policy[next_state_no]) - R_option_policy[state_no][optact])\n",
    "                    options_to_update = [action]\n",
    "                    st_coords = list(env.decode(state))[:2]\n",
    "                    other_options = [6]\n",
    "                    for oth in other_options:\n",
    "                        if oth == 6:\n",
    "                            pa,pd = learn_R1(env,state,G_option_policy)\n",
    "                            if pa == optact:\n",
    "                                options_to_update.append(oth)\n",
    "                    nst_coords = list(env.decode(next_state))[:2]\n",
    "                    for opt in options_to_update:\n",
    "                            term_matrix = OPT_TO_TERM_MAP[opt]\n",
    "                            if term_matrix[nst_coords[0], nst_coords[1]] == 1:\n",
    "                                # if the option terminates, we do total max over all actions(and options) in next state\n",
    "                                q_values_SMDP[state, opt] += alpha * (reward + gamma * np.max(q_values_SMDP[next_state]) - q_values_SMDP[state, opt])\n",
    "                                update_frequency[state, opt] += 1\n",
    "                            else:\n",
    "                                # if it does not, we use the option q-value in next state for update\n",
    "                                q_values_SMDP[state, opt] += alpha * (reward + gamma * (q_values_SMDP[next_state, opt]) - q_values_SMDP[state, opt])\n",
    "                                update_frequency[state, opt] += 1\n",
    "                    state = next_state\n",
    "\n",
    "                    reward_bar = gamma * reward_bar + reward\n",
    "                    state_row,state_col,_,_=list(env.decode(state))\n",
    "                    pos=[state_row,state_col]\n",
    "                    \n",
    "                #q_values_SMDP[s_state][6] += alpha * (reward_bar + (gamma ** k) * np.max(q_values_SMDP[next_state]) - q_values_SMDP[s_state][6])\n",
    "                #update_frequency[state][6] += 1\n",
    "                total_reward += reward_bar  # Accumulate reward for the episode\n",
    "\n",
    "\n",
    "            # Check if episode is done\n",
    "            if done:\n",
    "                episode_rewards.append(total_reward)  # Append total reward for the episode\n",
    "\n",
    "    # Plot rewards vs. episodes\n",
    "    return sum(episode_rewards)\n",
    "\n",
    "\n",
    "        "
   ]
  },
  {
   "cell_type": "code",
   "execution_count": 7,
   "metadata": {
    "id": "ok_5eQM7OCTj"
   },
   "outputs": [
    {
     "name": "stderr",
     "output_type": "stream",
     "text": [
      "  0%|          | 0/500000 [00:00<?, ?it/s]"
     ]
    },
    {
     "name": "stderr",
     "output_type": "stream",
     "text": [
      "100%|██████████| 500000/500000 [26:13<00:00, 317.66it/s]\n"
     ]
    }
   ],
   "source": []
  },
  {
   "cell_type": "code",
   "execution_count": null,
   "metadata": {},
   "outputs": [],
   "source": []
  },
  {
   "cell_type": "code",
   "execution_count": 13,
   "metadata": {},
   "outputs": [
    {
     "name": "stdout",
     "output_type": "stream",
     "text": [
      "|   iter    |  target   |   alpha   |  epsilon  |\n",
      "-------------------------------------------------\n"
     ]
    },
    {
     "name": "stderr",
     "output_type": "stream",
     "text": [
      "100%|██████████| 5000/5000 [00:15<00:00, 322.69it/s]\n"
     ]
    },
    {
     "name": "stdout",
     "output_type": "stream",
     "text": [
      "| \u001b[0m1        \u001b[0m | \u001b[0m5.755e+03\u001b[0m | \u001b[0m0.3502   \u001b[0m | \u001b[0m0.1857   \u001b[0m |\n"
     ]
    },
    {
     "name": "stderr",
     "output_type": "stream",
     "text": [
      "100%|██████████| 5000/5000 [00:22<00:00, 226.34it/s]\n"
     ]
    },
    {
     "name": "stdout",
     "output_type": "stream",
     "text": [
      "| \u001b[0m2        \u001b[0m | \u001b[0m-5.664e+0\u001b[0m | \u001b[0m0.1001   \u001b[0m | \u001b[0m0.08954  \u001b[0m |\n"
     ]
    },
    {
     "name": "stderr",
     "output_type": "stream",
     "text": [
      "100%|██████████| 5000/5000 [00:17<00:00, 279.89it/s]\n"
     ]
    },
    {
     "name": "stdout",
     "output_type": "stream",
     "text": [
      "| \u001b[0m3        \u001b[0m | \u001b[0m-1.73e+04\u001b[0m | \u001b[0m0.1881   \u001b[0m | \u001b[0m0.04124  \u001b[0m |\n"
     ]
    },
    {
     "name": "stderr",
     "output_type": "stream",
     "text": [
      "100%|██████████| 5000/5000 [00:17<00:00, 285.34it/s]\n"
     ]
    },
    {
     "name": "stdout",
     "output_type": "stream",
     "text": [
      "| \u001b[0m4        \u001b[0m | \u001b[0m-1.068e+0\u001b[0m | \u001b[0m0.2118   \u001b[0m | \u001b[0m0.09948  \u001b[0m |\n"
     ]
    },
    {
     "name": "stderr",
     "output_type": "stream",
     "text": [
      "100%|██████████| 5000/5000 [00:15<00:00, 331.82it/s]\n"
     ]
    },
    {
     "name": "stdout",
     "output_type": "stream",
     "text": [
      "| \u001b[0m5        \u001b[0m | \u001b[0m5.444e+03\u001b[0m | \u001b[0m0.3381   \u001b[0m | \u001b[0m0.1439   \u001b[0m |\n"
     ]
    },
    {
     "name": "stderr",
     "output_type": "stream",
     "text": [
      "100%|██████████| 5000/5000 [00:15<00:00, 316.50it/s]\n"
     ]
    },
    {
     "name": "stdout",
     "output_type": "stream",
     "text": [
      "| \u001b[95m6        \u001b[0m | \u001b[95m1.233e+04\u001b[0m | \u001b[95m0.5205   \u001b[0m | \u001b[95m0.1435   \u001b[0m |\n"
     ]
    },
    {
     "name": "stderr",
     "output_type": "stream",
     "text": [
      "100%|██████████| 5000/5000 [00:13<00:00, 357.65it/s]\n"
     ]
    },
    {
     "name": "stdout",
     "output_type": "stream",
     "text": [
      "| \u001b[95m7        \u001b[0m | \u001b[95m1.794e+04\u001b[0m | \u001b[95m0.6662   \u001b[0m | \u001b[95m0.25     \u001b[0m |\n"
     ]
    },
    {
     "name": "stderr",
     "output_type": "stream",
     "text": [
      "100%|██████████| 5000/5000 [00:17<00:00, 279.28it/s]\n"
     ]
    },
    {
     "name": "stdout",
     "output_type": "stream",
     "text": [
      "| \u001b[0m8        \u001b[0m | \u001b[0m-1.745e+0\u001b[0m | \u001b[0m0.1896   \u001b[0m | \u001b[0m0.1646   \u001b[0m |\n"
     ]
    },
    {
     "name": "stderr",
     "output_type": "stream",
     "text": [
      "100%|██████████| 5000/5000 [00:13<00:00, 368.36it/s]\n"
     ]
    },
    {
     "name": "stdout",
     "output_type": "stream",
     "text": [
      "| \u001b[0m9        \u001b[0m | \u001b[0m1.696e+04\u001b[0m | \u001b[0m0.7      \u001b[0m | \u001b[0m0.04997  \u001b[0m |\n"
     ]
    },
    {
     "name": "stderr",
     "output_type": "stream",
     "text": [
      "100%|██████████| 5000/5000 [00:14<00:00, 353.40it/s]\n"
     ]
    },
    {
     "name": "stdout",
     "output_type": "stream",
     "text": [
      "| \u001b[0m10       \u001b[0m | \u001b[0m1.334e+04\u001b[0m | \u001b[0m0.5458   \u001b[0m | \u001b[0m0.02     \u001b[0m |\n"
     ]
    },
    {
     "name": "stderr",
     "output_type": "stream",
     "text": [
      "100%|██████████| 5000/5000 [00:13<00:00, 359.76it/s]\n"
     ]
    },
    {
     "name": "stdout",
     "output_type": "stream",
     "text": [
      "| \u001b[95m11       \u001b[0m | \u001b[95m1.804e+04\u001b[0m | \u001b[95m0.7      \u001b[0m | \u001b[95m0.1577   \u001b[0m |\n"
     ]
    },
    {
     "name": "stderr",
     "output_type": "stream",
     "text": [
      "100%|██████████| 5000/5000 [00:14<00:00, 347.27it/s]\n"
     ]
    },
    {
     "name": "stdout",
     "output_type": "stream",
     "text": [
      "| \u001b[0m12       \u001b[0m | \u001b[0m1.185e+04\u001b[0m | \u001b[0m0.5313   \u001b[0m | \u001b[0m0.25     \u001b[0m |\n"
     ]
    },
    {
     "name": "stderr",
     "output_type": "stream",
     "text": [
      "100%|██████████| 5000/5000 [00:14<00:00, 334.91it/s]\n"
     ]
    },
    {
     "name": "stdout",
     "output_type": "stream",
     "text": [
      "| \u001b[0m13       \u001b[0m | \u001b[0m5.565e+03\u001b[0m | \u001b[0m0.3917   \u001b[0m | \u001b[0m0.02     \u001b[0m |\n"
     ]
    },
    {
     "name": "stderr",
     "output_type": "stream",
     "text": [
      "100%|██████████| 5000/5000 [00:13<00:00, 363.75it/s]\n"
     ]
    },
    {
     "name": "stdout",
     "output_type": "stream",
     "text": [
      "| \u001b[0m14       \u001b[0m | \u001b[0m1.504e+04\u001b[0m | \u001b[0m0.6245   \u001b[0m | \u001b[0m0.1173   \u001b[0m |\n"
     ]
    },
    {
     "name": "stderr",
     "output_type": "stream",
     "text": [
      "100%|██████████| 5000/5000 [00:16<00:00, 300.82it/s]\n"
     ]
    },
    {
     "name": "stdout",
     "output_type": "stream",
     "text": [
      "| \u001b[0m15       \u001b[0m | \u001b[0m-1.463e+0\u001b[0m | \u001b[0m0.1891   \u001b[0m | \u001b[0m0.1135   \u001b[0m |\n"
     ]
    },
    {
     "name": "stderr",
     "output_type": "stream",
     "text": [
      "100%|██████████| 5000/5000 [00:13<00:00, 364.50it/s]\n"
     ]
    },
    {
     "name": "stdout",
     "output_type": "stream",
     "text": [
      "| \u001b[0m16       \u001b[0m | \u001b[0m1.225e+04\u001b[0m | \u001b[0m0.6355   \u001b[0m | \u001b[0m0.02     \u001b[0m |\n"
     ]
    },
    {
     "name": "stderr",
     "output_type": "stream",
     "text": [
      "100%|██████████| 5000/5000 [00:13<00:00, 379.42it/s]\n"
     ]
    },
    {
     "name": "stdout",
     "output_type": "stream",
     "text": [
      "| \u001b[0m17       \u001b[0m | \u001b[0m1.65e+04 \u001b[0m | \u001b[0m0.6977   \u001b[0m | \u001b[0m0.16     \u001b[0m |\n"
     ]
    },
    {
     "name": "stderr",
     "output_type": "stream",
     "text": [
      "100%|██████████| 5000/5000 [00:13<00:00, 363.68it/s]\n"
     ]
    },
    {
     "name": "stdout",
     "output_type": "stream",
     "text": [
      "| \u001b[0m18       \u001b[0m | \u001b[0m7.634e+03\u001b[0m | \u001b[0m0.4342   \u001b[0m | \u001b[0m0.25     \u001b[0m |\n"
     ]
    },
    {
     "name": "stderr",
     "output_type": "stream",
     "text": [
      "100%|██████████| 5000/5000 [00:13<00:00, 364.94it/s]\n"
     ]
    },
    {
     "name": "stdout",
     "output_type": "stream",
     "text": [
      "| \u001b[0m19       \u001b[0m | \u001b[0m9.073e+03\u001b[0m | \u001b[0m0.4386   \u001b[0m | \u001b[0m0.1096   \u001b[0m |\n"
     ]
    },
    {
     "name": "stderr",
     "output_type": "stream",
     "text": [
      "100%|██████████| 5000/5000 [00:12<00:00, 389.93it/s]"
     ]
    },
    {
     "name": "stdout",
     "output_type": "stream",
     "text": [
      "| \u001b[0m20       \u001b[0m | \u001b[0m1.751e+04\u001b[0m | \u001b[0m0.698    \u001b[0m | \u001b[0m0.1028   \u001b[0m |\n",
      "=================================================\n"
     ]
    },
    {
     "name": "stderr",
     "output_type": "stream",
     "text": [
      "\n"
     ]
    }
   ],
   "source": [
    "from bayes_opt import BayesianOptimization\n",
    "param_space = {\n",
    "   \n",
    "    'alpha': (0.1, 0.7),\n",
    "    'epsilon': (0.02, 0.25),\n",
    "}\n",
    "optimizer = BayesianOptimization(\n",
    "    f=ioql_cus,\n",
    "    pbounds=param_space,\n",
    "    random_state=1,\n",
    ")\n",
    "optimizer.maximize(\n",
    "    init_points=5,\n",
    "    n_iter=15,\n",
    ")"
   ]
  },
  {
   "cell_type": "code",
   "execution_count": 14,
   "metadata": {},
   "outputs": [
    {
     "name": "stdout",
     "output_type": "stream",
     "text": [
      "{'target': 18038.57484058183, 'params': {'alpha': 0.7, 'epsilon': 0.1576793782759692}}\n"
     ]
    }
   ],
   "source": [
    "print(optimizer.max)"
   ]
  },
  {
   "cell_type": "code",
   "execution_count": 15,
   "metadata": {},
   "outputs": [
    {
     "name": "stderr",
     "output_type": "stream",
     "text": [
      "100%|██████████| 500000/500000 [22:08<00:00, 376.50it/s]\n"
     ]
    }
   ],
   "source": [
    "import numpy as np\n",
    "import matplotlib.pyplot as plt\n",
    "from tqdm import tqdm  # tqdm is a library for displaying progress bars\n",
    "\n",
    "# Initialize episode_rewards list to store rewards obtained during each episode\n",
    "episode_rewards = []\n",
    "\n",
    "# Add parameters you might need here\n",
    "gamma = 0.9\n",
    "alpha =  optimizer.max[\"params\"][\"alpha\"]\n",
    "epsilon =  optimizer.max[\"params\"][\"epsilon\"]\n",
    "q_values_SMDP = np.zeros((500,8))\n",
    "R_option_policy=np.zeros((25,4)) # action 6\n",
    "G_option_policy=np.zeros((25,4)) # action 7 \n",
    "B_option_policy=np.zeros((25,4)) # action 8 \n",
    "Y_option_policy=np.zeros((25,4)) # action 9\n",
    "# Iterate over 1000 episodes\n",
    "\n",
    "# Iterate over 1000 episodes\n",
    "for _ in tqdm(range(500000)):\n",
    "    \n",
    "    state, _ = env.reset()   \n",
    "    #print(state)\n",
    "    done = False\n",
    "    total_reward = 0  # Initialize total reward for the episode\n",
    "\n",
    "    # While episode is not over\n",
    "    while not done:\n",
    "       \n",
    "        \n",
    "        # Choose action  \n",
    "        st_coords = tuple(env.decode(state))[:2]\n",
    "        \n",
    "        dis_opts = {(0,0) : 6, (0,4) : 7, (4,0) : 8, (4,3) : 9} \n",
    "        dis_opt = (dis_opts[st_coords] if st_coords in dis_opts.keys() else None) \n",
    "        action = egreedy_policy(q_values_SMDP, state, epsilon, dis_opt,rg= np.random.RandomState(42))   \n",
    "        #print(action,st_coords,\"hello\")\n",
    "        #action = egreedy_policy(q_values_SMDP, state, epsilon)\n",
    "        # Checking if primitive action\n",
    "        if action < 6:\n",
    "            # Perform regular Q-Learning update for state-action pair\n",
    "            next_state, reward, terminated, truncated, info = env.step(action)\n",
    "            done = terminated or truncated\n",
    "            \n",
    "            q_values_SMDP[state][action] += alpha * (reward + gamma * np.max(q_values_SMDP[next_state]) - q_values_SMDP[state][action])\n",
    "            update_frequency[state][action] += 1\n",
    "            \n",
    "            state = next_state\n",
    "            total_reward += reward  # Accumulate reward for the episode\n",
    "        \n",
    "        # Checking if action chosen is an option\n",
    "        reward_bar = 0\n",
    "        s_state = state\n",
    "        if action == 6: # action => Away option\n",
    "            k = 0\n",
    "            state_row,state_col,_,_=list(env.decode(state))\n",
    "            pos=[state_row,state_col]\n",
    "            optdone = False\n",
    "            while not optdone:\n",
    "                k += 1\n",
    "                state_no=state_row*5+state_col\n",
    "                optact, optdone = learn_R1(env, state,R_option_policy) \n",
    "                next_state, reward, terminated, truncated, info = env.step(optact)\n",
    "                done = terminated or truncated\n",
    "                state_row,state_col,_,_=list(env.decode(next_state))\n",
    "                next_state_no=state_row*5+state_col\n",
    "                q_values_SMDP[state, optact] += alpha * (reward + gamma*np.max(q_values_SMDP[next_state]) - q_values_SMDP[state, optact])\n",
    "                update_frequency[state, optact] += 1\n",
    "                R_option_policy[state_no][optact] += alpha * (reward + gamma * np.max(R_option_policy[next_state_no]) - R_option_policy[state_no][optact])\n",
    "                options_to_update = [action]\n",
    "                st_coords = list(env.decode(state))[:2]\n",
    "                other_options = [7,]\n",
    "                for oth in other_options:\n",
    "                    if oth == 7:\n",
    "                        pa,pd = learn_R2(env,state,G_option_policy)\n",
    "                        if pa == optact:\n",
    "                            options_to_update.append(oth)\n",
    "                   \n",
    "                nst_coords = list(env.decode(next_state))[:2]\n",
    "                for opt in options_to_update:\n",
    "                        term_matrix = OPT_TO_TERM_MAP[opt]\n",
    "                        if term_matrix[nst_coords[0], nst_coords[1]] == 1:\n",
    "                            # if the option terminates, we do total max over all actions(and options) in next state\n",
    "                            q_values_SMDP[state, opt] += alpha * (reward + gamma * np.max(q_values_SMDP[next_state]) - q_values_SMDP[state, opt])\n",
    "                            update_frequency[state, opt] += 1\n",
    "                        else:\n",
    "                            # if it does not, we use the option q-value in next state for update\n",
    "                            q_values_SMDP[state, opt] += alpha * (reward + gamma * (q_values_SMDP[next_state, opt]) - q_values_SMDP[state, opt])\n",
    "                            update_frequency[state, opt] += 1\n",
    "                state = next_state\n",
    "\n",
    "                reward_bar = gamma * reward_bar + reward\n",
    "                state_row,state_col,_,_=list(env.decode(state))\n",
    "                pos=[state_row,state_col]\n",
    "                \n",
    "            #q_values_SMDP[s_state][6] += alpha * (reward_bar + (gamma ** k) * np.max(q_values_SMDP[next_state]) - q_values_SMDP[s_state][6])\n",
    "            #update_frequency[state][6] += 1\n",
    "            total_reward += reward_bar  # Accumulate reward for the episode\n",
    "\n",
    "        # Update state for other option actions (similar to action 6)\n",
    "        if action == 7: # action => Away option\n",
    "            k = 0\n",
    "            state_row,state_col,_,_=list(env.decode(state))\n",
    "            pos=[state_row,state_col]\n",
    "            optdone = False\n",
    "            while not optdone:\n",
    "                k += 1\n",
    "                state_no=state_row*5+state_col\n",
    "                optact, optdone = learn_R2(env, state,R_option_policy) \n",
    "                next_state, reward, terminated, truncated, info = env.step(optact)\n",
    "                done = terminated or truncated\n",
    "                state_row,state_col,_,_=list(env.decode(next_state))\n",
    "                next_state_no=state_row*5+state_col\n",
    "                q_values_SMDP[state, optact] += alpha * (reward + gamma*np.max(q_values_SMDP[next_state]) - q_values_SMDP[state, optact])\n",
    "                update_frequency[state, optact] += 1\n",
    "                R_option_policy[state_no][optact] += alpha * (reward + gamma * np.max(R_option_policy[next_state_no]) - R_option_policy[state_no][optact])\n",
    "                options_to_update = [action]\n",
    "                st_coords = list(env.decode(state))[:2]\n",
    "                other_options = [6]\n",
    "                for oth in other_options:\n",
    "                    if oth == 6:\n",
    "                        pa,pd = learn_R1(env,state,G_option_policy)\n",
    "                        if pa == optact:\n",
    "                            options_to_update.append(oth)\n",
    "                nst_coords = list(env.decode(next_state))[:2]\n",
    "                for opt in options_to_update:\n",
    "                        term_matrix = OPT_TO_TERM_MAP[opt]\n",
    "                        if term_matrix[nst_coords[0], nst_coords[1]] == 1:\n",
    "                            # if the option terminates, we do total max over all actions(and options) in next state\n",
    "                            q_values_SMDP[state, opt] += alpha * (reward + gamma * np.max(q_values_SMDP[next_state]) - q_values_SMDP[state, opt])\n",
    "                            update_frequency[state, opt] += 1\n",
    "                        else:\n",
    "                            # if it does not, we use the option q-value in next state for update\n",
    "                            q_values_SMDP[state, opt] += alpha * (reward + gamma * (q_values_SMDP[next_state, opt]) - q_values_SMDP[state, opt])\n",
    "                            update_frequency[state, opt] += 1\n",
    "                state = next_state\n",
    "\n",
    "                reward_bar = gamma * reward_bar + reward\n",
    "                state_row,state_col,_,_=list(env.decode(state))\n",
    "                pos=[state_row,state_col]\n",
    "                \n",
    "            #q_values_SMDP[s_state][6] += alpha * (reward_bar + (gamma ** k) * np.max(q_values_SMDP[next_state]) - q_values_SMDP[s_state][6])\n",
    "            #update_frequency[state][6] += 1\n",
    "            total_reward += reward_bar  # Accumulate reward for the episode\n",
    "\n",
    "\n",
    "        # Check if episode is done\n",
    "        if done:\n",
    "            episode_rewards.append(total_reward)  # Append total reward for the episode\n",
    "\n",
    "# Plot rewards vs. episodes\n",
    "\n",
    "\n",
    "\n",
    "        "
   ]
  },
  {
   "cell_type": "code",
   "execution_count": 25,
   "metadata": {},
   "outputs": [
    {
     "data": {
      "image/png": "[encoded data removed]",
      "text/plain": [
       "<Figure size 1152x576 with 1 Axes>"
      ]
     },
     "metadata": {
      "needs_background": "light"
     },
     "output_type": "display_data"
    }
   ],
   "source": [
    "fig, ax = plt.subplots(figsize=(16,8))\n",
    "plt.plot(range(1,5000 + 1), episode_rewards[:5000])\n",
    "\n",
    "plt.xlabel('Episodes')\n",
    "\n",
    "plt.ylabel('Total Rewards')\n",
    "plt.title('Rewards vs. Episodes')\n",
    "plt.grid(True)\n",
    "plt.show()"
   ]
  },
  {
   "cell_type": "code",
   "execution_count": 17,
   "metadata": {},
   "outputs": [],
   "source": [
    "def visualize_q_values(q_values, msg, pass_src = None, pass_dest = None):\n",
    "    assert(pass_src != None and pass_dest != None)\n",
    "\n",
    "    req_actions = [[None for _ in range(5)] for _ in range(5)]\n",
    "    req_q_values = [[None for _ in range(5)] for _ in range(5)]\n",
    "    temp_env = gym.make('Taxi-v3')\n",
    "    for s in range(500):\n",
    "        s_vec = list(temp_env.decode(s))\n",
    "        if s_vec[2] == pass_src and s_vec[3] == pass_dest:\n",
    "            req_actions[s_vec[0]][s_vec[1]] = np.argmax(q_values[s])\n",
    "            req_q_values[s_vec[0]][s_vec[1]] = np.max(q_values[s])\n",
    "    req_actions = np.array(req_actions)\n",
    "    fig, ax = plt.subplots(figsize=(8,8))\n",
    "    ax.set_title(msg)\n",
    "    ax.invert_yaxis()\n",
    "    ax.xaxis.tick_top()\n",
    "    ax.set_xlabel('Columns')\n",
    "    ax.xaxis.set_label_position('top') \n",
    "    ax.set_ylabel('Rows')\n",
    "    mesh = ax.pcolormesh(req_q_values, edgecolors='k', linewidths=2)\n",
    "    fig.colorbar(mesh)\n",
    "    def x_direct(a):\n",
    "        if a in [4,5,6,7,8]:\n",
    "            return 0\n",
    "        if a in [0, 1]:\n",
    "            return 0\n",
    "        return 1 if a == 2 else -1\n",
    "    def y_direct(a):\n",
    "        if a in [4,5,6,7,8]:\n",
    "            return 0\n",
    "        if a in [2, 3]:\n",
    "            return 0\n",
    "        return 1 if a == 1 else -1\n",
    "    idx = np.indices((5,5))\n",
    "    policyx = np.vectorize(x_direct)(req_actions)\n",
    "    policyy = np.vectorize(y_direct)(req_actions)\n",
    "    req_action_dict = {4 : 'Pickup', 5 : 'Drop', 6 : 'R', 7 : 'G', 8 : 'Y', 9 : 'B'}\n",
    "    for i,j,px,py in zip(idx[1].ravel(), idx[0].ravel(), policyx.ravel(), policyy.ravel()):\n",
    "        if (req_actions[j, i] < 4):\n",
    "            ax.quiver(i+0.5, j+0.5, px, py, pivot=\"middle\", scale=10,color='red')\n",
    "        else:\n",
    "            ax.text(i+0.5, j+0.5, req_action_dict[req_actions[j][i]], horizontalalignment='center',verticalalignment='center',color='tomato')\n",
    "    "
   ]
  },
  {
   "cell_type": "code",
   "execution_count": 18,
   "metadata": {},
   "outputs": [
    {
     "data": {
      "image/png": "[encoded data removed]",
      "text/plain": [
       "<Figure size 576x576 with 2 Axes>"
      ]
     },
     "metadata": {
      "needs_background": "light"
     },
     "output_type": "display_data"
    }
   ],
   "source": [
    "visualize_q_values(q_values_SMDP, \"Passenger Inside the car, Destination R\", 4, 0)"
   ]
  },
  {
   "cell_type": "code",
   "execution_count": 19,
   "metadata": {},
   "outputs": [
    {
     "data": {
      "image/png": "[encoded data removed]",
      "text/plain": [
       "<Figure size 576x576 with 2 Axes>"
      ]
     },
     "metadata": {
      "needs_background": "light"
     },
     "output_type": "display_data"
    }
   ],
   "source": [
    "visualize_q_values(q_values_SMDP, \"Passenger inside the car, destintion G\",  4, 1)"
   ]
  },
  {
   "cell_type": "code",
   "execution_count": 20,
   "metadata": {},
   "outputs": [
    {
     "data": {
      "image/png": "[encoded data removed]",
      "text/plain": [
       "<Figure size 576x576 with 2 Axes>"
      ]
     },
     "metadata": {
      "needs_background": "light"
     },
     "output_type": "display_data"
    }
   ],
   "source": [
    "visualize_q_values(q_values_SMDP, \"Passenger inside the car, destination Y\",  4, 2)\n"
   ]
  },
  {
   "cell_type": "code",
   "execution_count": 21,
   "metadata": {},
   "outputs": [
    {
     "data": {
      "image/png": "[encoded data removed]",
      "text/plain": [
       "<Figure size 576x576 with 2 Axes>"
      ]
     },
     "metadata": {
      "needs_background": "light"
     },
     "output_type": "display_data"
    }
   ],
   "source": [
    "visualize_q_values(q_values_SMDP, \"Passenger Inisde the car, destination B\",  4, 3)"
   ]
  },
  {
   "cell_type": "code",
   "execution_count": 22,
   "metadata": {},
   "outputs": [
    {
     "data": {
      "image/png": "[encoded data removed]",
      "text/plain": [
       "<Figure size 576x576 with 2 Axes>"
      ]
     },
     "metadata": {
      "needs_background": "light"
     },
     "output_type": "display_data"
    }
   ],
   "source": [
    "visualize_q_values(q_values_SMDP, \"Pickup at R\",  0, 1)"
   ]
  },
  {
   "cell_type": "code",
   "execution_count": 23,
   "metadata": {},
   "outputs": [
    {
     "data": {
      "image/png": "[encoded data removed]",
      "text/plain": [
       "<Figure size 576x576 with 2 Axes>"
      ]
     },
     "metadata": {
      "needs_background": "light"
     },
     "output_type": "display_data"
    }
   ],
   "source": [
    "visualize_q_values(q_values_SMDP, \"Pickup at B\",  3, 1)"
   ]
  },
  {
   "cell_type": "code",
   "execution_count": 24,
   "metadata": {},
   "outputs": [
    {
     "data": {
      "image/png": "[encoded data removed]",
      "text/plain": [
       "<Figure size 576x576 with 2 Axes>"
      ]
     },
     "metadata": {
      "needs_background": "light"
     },
     "output_type": "display_data"
    }
   ],
   "source": [
    "visualize_q_values(q_values_SMDP, \"Pickup at Y\", 2, 1)"
   ]
  }
 ],
 "metadata": {
  "accelerator": "GPU",
  "colab": {
   "collapsed_sections": [
    "5LBh6_lOVBdN"
   ],
   "name": "Tutorial 5 - Options Intro",
   "provenance": []
  },
  "kernelspec": {
   "display_name": "Python 3 (ipykernel)",
   "language": "python",
   "name": "python3"
  },
  "language_info": {
   "codemirror_mode": {
    "name": "ipython",
    "version": 3
   },
   "file_extension": ".py",
   "mimetype": "text/x-python",
   "name": "python",
   "nbconvert_exporter": "python",
   "pygments_lexer": "ipython3",
   "version": "3.10.2"
  }
 },
 "nbformat": 4,
 "nbformat_minor": 1
}
